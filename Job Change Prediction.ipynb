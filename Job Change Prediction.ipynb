{
  "nbformat": 4,
  "nbformat_minor": 0,
  "metadata": {
    "colab": {
      "name": "Copy of KDD_project.ipynb",
      "provenance": [],
      "collapsed_sections": [],
      "toc_visible": true
    },
    "kernelspec": {
      "name": "python3",
      "display_name": "Python 3"
    },
    "language_info": {
      "name": "python"
    }
  },
  "cells": [
    {
      "cell_type": "markdown",
      "metadata": {
        "id": "01yNVs92wLfe"
      },
      "source": [
        "# HR Analytics: Job Change of Data Scientists\n",
        "### Analysis of Data Mining Algorithms\n",
        "\n",
        "Binary Classification model\n"
      ]
    },
    {
      "cell_type": "markdown",
      "metadata": {
        "id": "PQEJaUvkB0_r"
      },
      "source": [
        "## Basic EDA"
      ]
    },
    {
      "cell_type": "markdown",
      "metadata": {
        "id": "kAfiVfqaxZhK"
      },
      "source": [
        "### Importing Libraries"
      ]
    },
    {
      "cell_type": "code",
      "metadata": {
        "id": "94E1A5fzstwW",
        "colab": {
          "base_uri": "https://localhost:8080/",
          "height": 58
        },
        "outputId": "042957e1-471f-4b48-b90d-bb2291f8a0c8"
      },
      "source": [
        "import numpy as np\n",
        "import pandas as pd\n",
        "import seaborn as sns     \n",
        "import matplotlib.pyplot as plt\n",
        "import tensorflow as tf\n",
        "tf.__version__"
      ],
      "execution_count": null,
      "outputs": [
        {
          "output_type": "execute_result",
          "data": {
            "application/vnd.google.colaboratory.intrinsic+json": {
              "type": "string"
            },
            "text/plain": [
              "'2.4.1'"
            ]
          },
          "metadata": {
            "tags": []
          },
          "execution_count": 12
        }
      ]
    },
    {
      "cell_type": "code",
      "metadata": {
        "id": "ANGetkM0p8n4",
        "colab": {
          "base_uri": "https://localhost:8080/"
        },
        "outputId": "670caf0e-4c2c-4748-8978-c64f68ac74cf"
      },
      "source": [
        "from google.colab import drive\n",
        "\n",
        "drive.mount('/content/drive')"
      ],
      "execution_count": null,
      "outputs": [
        {
          "output_type": "stream",
          "text": [
            "Drive already mounted at /content/drive; to attempt to forcibly remount, call drive.mount(\"/content/drive\", force_remount=True).\n"
          ],
          "name": "stdout"
        }
      ]
    },
    {
      "cell_type": "markdown",
      "metadata": {
        "id": "6pzPCqiqxo2c"
      },
      "source": [
        "### Importing Dataset"
      ]
    },
    {
      "cell_type": "code",
      "metadata": {
        "id": "Gpls9mrstC1q",
        "colab": {
          "base_uri": "https://localhost:8080/",
          "height": 374
        },
        "outputId": "eda841a6-59ab-4385-f279-b323cdcea5ed"
      },
      "source": [
        "df = pd.read_csv(\"/content/drive/MyDrive/aug_train.csv\")\n",
        "df.head(10) "
      ],
      "execution_count": null,
      "outputs": [
        {
          "output_type": "execute_result",
          "data": {
            "text/html": [
              "<div>\n",
              "<style scoped>\n",
              "    .dataframe tbody tr th:only-of-type {\n",
              "        vertical-align: middle;\n",
              "    }\n",
              "\n",
              "    .dataframe tbody tr th {\n",
              "        vertical-align: top;\n",
              "    }\n",
              "\n",
              "    .dataframe thead th {\n",
              "        text-align: right;\n",
              "    }\n",
              "</style>\n",
              "<table border=\"1\" class=\"dataframe\">\n",
              "  <thead>\n",
              "    <tr style=\"text-align: right;\">\n",
              "      <th></th>\n",
              "      <th>enrollee_id</th>\n",
              "      <th>city</th>\n",
              "      <th>city_development_index</th>\n",
              "      <th>gender</th>\n",
              "      <th>relevent_experience</th>\n",
              "      <th>enrolled_university</th>\n",
              "      <th>education_level</th>\n",
              "      <th>major_discipline</th>\n",
              "      <th>experience</th>\n",
              "      <th>company_size</th>\n",
              "      <th>company_type</th>\n",
              "      <th>last_new_job</th>\n",
              "      <th>training_hours</th>\n",
              "      <th>target</th>\n",
              "    </tr>\n",
              "  </thead>\n",
              "  <tbody>\n",
              "    <tr>\n",
              "      <th>0</th>\n",
              "      <td>8949</td>\n",
              "      <td>city_103</td>\n",
              "      <td>0.920</td>\n",
              "      <td>Male</td>\n",
              "      <td>Has relevent experience</td>\n",
              "      <td>no_enrollment</td>\n",
              "      <td>Graduate</td>\n",
              "      <td>STEM</td>\n",
              "      <td>&gt;20</td>\n",
              "      <td>NaN</td>\n",
              "      <td>NaN</td>\n",
              "      <td>1</td>\n",
              "      <td>36</td>\n",
              "      <td>1.0</td>\n",
              "    </tr>\n",
              "    <tr>\n",
              "      <th>1</th>\n",
              "      <td>29725</td>\n",
              "      <td>city_40</td>\n",
              "      <td>0.776</td>\n",
              "      <td>Male</td>\n",
              "      <td>No relevent experience</td>\n",
              "      <td>no_enrollment</td>\n",
              "      <td>Graduate</td>\n",
              "      <td>STEM</td>\n",
              "      <td>15</td>\n",
              "      <td>50-99</td>\n",
              "      <td>Pvt Ltd</td>\n",
              "      <td>&gt;4</td>\n",
              "      <td>47</td>\n",
              "      <td>0.0</td>\n",
              "    </tr>\n",
              "    <tr>\n",
              "      <th>2</th>\n",
              "      <td>11561</td>\n",
              "      <td>city_21</td>\n",
              "      <td>0.624</td>\n",
              "      <td>NaN</td>\n",
              "      <td>No relevent experience</td>\n",
              "      <td>Full time course</td>\n",
              "      <td>Graduate</td>\n",
              "      <td>STEM</td>\n",
              "      <td>5</td>\n",
              "      <td>NaN</td>\n",
              "      <td>NaN</td>\n",
              "      <td>never</td>\n",
              "      <td>83</td>\n",
              "      <td>0.0</td>\n",
              "    </tr>\n",
              "    <tr>\n",
              "      <th>3</th>\n",
              "      <td>33241</td>\n",
              "      <td>city_115</td>\n",
              "      <td>0.789</td>\n",
              "      <td>NaN</td>\n",
              "      <td>No relevent experience</td>\n",
              "      <td>NaN</td>\n",
              "      <td>Graduate</td>\n",
              "      <td>Business Degree</td>\n",
              "      <td>&lt;1</td>\n",
              "      <td>NaN</td>\n",
              "      <td>Pvt Ltd</td>\n",
              "      <td>never</td>\n",
              "      <td>52</td>\n",
              "      <td>1.0</td>\n",
              "    </tr>\n",
              "    <tr>\n",
              "      <th>4</th>\n",
              "      <td>666</td>\n",
              "      <td>city_162</td>\n",
              "      <td>0.767</td>\n",
              "      <td>Male</td>\n",
              "      <td>Has relevent experience</td>\n",
              "      <td>no_enrollment</td>\n",
              "      <td>Masters</td>\n",
              "      <td>STEM</td>\n",
              "      <td>&gt;20</td>\n",
              "      <td>50-99</td>\n",
              "      <td>Funded Startup</td>\n",
              "      <td>4</td>\n",
              "      <td>8</td>\n",
              "      <td>0.0</td>\n",
              "    </tr>\n",
              "    <tr>\n",
              "      <th>5</th>\n",
              "      <td>21651</td>\n",
              "      <td>city_176</td>\n",
              "      <td>0.764</td>\n",
              "      <td>NaN</td>\n",
              "      <td>Has relevent experience</td>\n",
              "      <td>Part time course</td>\n",
              "      <td>Graduate</td>\n",
              "      <td>STEM</td>\n",
              "      <td>11</td>\n",
              "      <td>NaN</td>\n",
              "      <td>NaN</td>\n",
              "      <td>1</td>\n",
              "      <td>24</td>\n",
              "      <td>1.0</td>\n",
              "    </tr>\n",
              "    <tr>\n",
              "      <th>6</th>\n",
              "      <td>28806</td>\n",
              "      <td>city_160</td>\n",
              "      <td>0.920</td>\n",
              "      <td>Male</td>\n",
              "      <td>Has relevent experience</td>\n",
              "      <td>no_enrollment</td>\n",
              "      <td>High School</td>\n",
              "      <td>NaN</td>\n",
              "      <td>5</td>\n",
              "      <td>50-99</td>\n",
              "      <td>Funded Startup</td>\n",
              "      <td>1</td>\n",
              "      <td>24</td>\n",
              "      <td>0.0</td>\n",
              "    </tr>\n",
              "    <tr>\n",
              "      <th>7</th>\n",
              "      <td>402</td>\n",
              "      <td>city_46</td>\n",
              "      <td>0.762</td>\n",
              "      <td>Male</td>\n",
              "      <td>Has relevent experience</td>\n",
              "      <td>no_enrollment</td>\n",
              "      <td>Graduate</td>\n",
              "      <td>STEM</td>\n",
              "      <td>13</td>\n",
              "      <td>&lt;10</td>\n",
              "      <td>Pvt Ltd</td>\n",
              "      <td>&gt;4</td>\n",
              "      <td>18</td>\n",
              "      <td>1.0</td>\n",
              "    </tr>\n",
              "    <tr>\n",
              "      <th>8</th>\n",
              "      <td>27107</td>\n",
              "      <td>city_103</td>\n",
              "      <td>0.920</td>\n",
              "      <td>Male</td>\n",
              "      <td>Has relevent experience</td>\n",
              "      <td>no_enrollment</td>\n",
              "      <td>Graduate</td>\n",
              "      <td>STEM</td>\n",
              "      <td>7</td>\n",
              "      <td>50-99</td>\n",
              "      <td>Pvt Ltd</td>\n",
              "      <td>1</td>\n",
              "      <td>46</td>\n",
              "      <td>1.0</td>\n",
              "    </tr>\n",
              "    <tr>\n",
              "      <th>9</th>\n",
              "      <td>699</td>\n",
              "      <td>city_103</td>\n",
              "      <td>0.920</td>\n",
              "      <td>NaN</td>\n",
              "      <td>Has relevent experience</td>\n",
              "      <td>no_enrollment</td>\n",
              "      <td>Graduate</td>\n",
              "      <td>STEM</td>\n",
              "      <td>17</td>\n",
              "      <td>10000+</td>\n",
              "      <td>Pvt Ltd</td>\n",
              "      <td>&gt;4</td>\n",
              "      <td>123</td>\n",
              "      <td>0.0</td>\n",
              "    </tr>\n",
              "  </tbody>\n",
              "</table>\n",
              "</div>"
            ],
            "text/plain": [
              "   enrollee_id      city  ...  training_hours target\n",
              "0         8949  city_103  ...              36    1.0\n",
              "1        29725   city_40  ...              47    0.0\n",
              "2        11561   city_21  ...              83    0.0\n",
              "3        33241  city_115  ...              52    1.0\n",
              "4          666  city_162  ...               8    0.0\n",
              "5        21651  city_176  ...              24    1.0\n",
              "6        28806  city_160  ...              24    0.0\n",
              "7          402   city_46  ...              18    1.0\n",
              "8        27107  city_103  ...              46    1.0\n",
              "9          699  city_103  ...             123    0.0\n",
              "\n",
              "[10 rows x 14 columns]"
            ]
          },
          "metadata": {
            "tags": []
          },
          "execution_count": 14
        }
      ]
    },
    {
      "cell_type": "markdown",
      "metadata": {
        "id": "Qbxc2Z8eBCY6"
      },
      "source": [
        "### Viewing Dimensions of Dataset"
      ]
    },
    {
      "cell_type": "code",
      "metadata": {
        "id": "Hecq-64WwpDJ",
        "colab": {
          "base_uri": "https://localhost:8080/"
        },
        "outputId": "7969e639-9782-4e9b-fa76-520f8267591c"
      },
      "source": [
        "df.shape"
      ],
      "execution_count": null,
      "outputs": [
        {
          "output_type": "execute_result",
          "data": {
            "text/plain": [
              "(19158, 14)"
            ]
          },
          "metadata": {
            "tags": []
          },
          "execution_count": 15
        }
      ]
    },
    {
      "cell_type": "markdown",
      "metadata": {
        "id": "lkwLgPsHBJR7"
      },
      "source": [
        "### Basic Information about Dataset"
      ]
    },
    {
      "cell_type": "code",
      "metadata": {
        "id": "FNxfZTliu8jr",
        "colab": {
          "base_uri": "https://localhost:8080/"
        },
        "outputId": "c5ecca07-612e-4e31-89b2-46fe1acdbc06"
      },
      "source": [
        "df.info()"
      ],
      "execution_count": null,
      "outputs": [
        {
          "output_type": "stream",
          "text": [
            "<class 'pandas.core.frame.DataFrame'>\n",
            "RangeIndex: 19158 entries, 0 to 19157\n",
            "Data columns (total 14 columns):\n",
            " #   Column                  Non-Null Count  Dtype  \n",
            "---  ------                  --------------  -----  \n",
            " 0   enrollee_id             19158 non-null  int64  \n",
            " 1   city                    19158 non-null  object \n",
            " 2   city_development_index  19158 non-null  float64\n",
            " 3   gender                  14650 non-null  object \n",
            " 4   relevent_experience     19158 non-null  object \n",
            " 5   enrolled_university     18772 non-null  object \n",
            " 6   education_level         18698 non-null  object \n",
            " 7   major_discipline        16345 non-null  object \n",
            " 8   experience              19093 non-null  object \n",
            " 9   company_size            13220 non-null  object \n",
            " 10  company_type            13018 non-null  object \n",
            " 11  last_new_job            18735 non-null  object \n",
            " 12  training_hours          19158 non-null  int64  \n",
            " 13  target                  19158 non-null  float64\n",
            "dtypes: float64(2), int64(2), object(10)\n",
            "memory usage: 2.0+ MB\n"
          ],
          "name": "stdout"
        }
      ]
    },
    {
      "cell_type": "markdown",
      "metadata": {
        "id": "aYpRSYnJBUPQ"
      },
      "source": [
        "### Describe function which gives Summary of numeric values"
      ]
    },
    {
      "cell_type": "code",
      "metadata": {
        "id": "2wyjUEJoyAC1",
        "colab": {
          "base_uri": "https://localhost:8080/",
          "height": 313
        },
        "outputId": "86c5d32b-91bd-41b5-9f08-8da576cff4a1"
      },
      "source": [
        "# df.describe(include='all')  # only float and int values , include = \"all\"\n",
        "df.describe()"
      ],
      "execution_count": null,
      "outputs": [
        {
          "output_type": "execute_result",
          "data": {
            "text/html": [
              "<div>\n",
              "<style scoped>\n",
              "    .dataframe tbody tr th:only-of-type {\n",
              "        vertical-align: middle;\n",
              "    }\n",
              "\n",
              "    .dataframe tbody tr th {\n",
              "        vertical-align: top;\n",
              "    }\n",
              "\n",
              "    .dataframe thead th {\n",
              "        text-align: right;\n",
              "    }\n",
              "</style>\n",
              "<table border=\"1\" class=\"dataframe\">\n",
              "  <thead>\n",
              "    <tr style=\"text-align: right;\">\n",
              "      <th></th>\n",
              "      <th>enrollee_id</th>\n",
              "      <th>city_development_index</th>\n",
              "      <th>training_hours</th>\n",
              "      <th>target</th>\n",
              "    </tr>\n",
              "  </thead>\n",
              "  <tbody>\n",
              "    <tr>\n",
              "      <th>count</th>\n",
              "      <td>19158.000000</td>\n",
              "      <td>19158.000000</td>\n",
              "      <td>19158.000000</td>\n",
              "      <td>19158.000000</td>\n",
              "    </tr>\n",
              "    <tr>\n",
              "      <th>mean</th>\n",
              "      <td>16875.358179</td>\n",
              "      <td>0.828848</td>\n",
              "      <td>65.366896</td>\n",
              "      <td>0.249348</td>\n",
              "    </tr>\n",
              "    <tr>\n",
              "      <th>std</th>\n",
              "      <td>9616.292592</td>\n",
              "      <td>0.123362</td>\n",
              "      <td>60.058462</td>\n",
              "      <td>0.432647</td>\n",
              "    </tr>\n",
              "    <tr>\n",
              "      <th>min</th>\n",
              "      <td>1.000000</td>\n",
              "      <td>0.448000</td>\n",
              "      <td>1.000000</td>\n",
              "      <td>0.000000</td>\n",
              "    </tr>\n",
              "    <tr>\n",
              "      <th>25%</th>\n",
              "      <td>8554.250000</td>\n",
              "      <td>0.740000</td>\n",
              "      <td>23.000000</td>\n",
              "      <td>0.000000</td>\n",
              "    </tr>\n",
              "    <tr>\n",
              "      <th>50%</th>\n",
              "      <td>16982.500000</td>\n",
              "      <td>0.903000</td>\n",
              "      <td>47.000000</td>\n",
              "      <td>0.000000</td>\n",
              "    </tr>\n",
              "    <tr>\n",
              "      <th>75%</th>\n",
              "      <td>25169.750000</td>\n",
              "      <td>0.920000</td>\n",
              "      <td>88.000000</td>\n",
              "      <td>0.000000</td>\n",
              "    </tr>\n",
              "    <tr>\n",
              "      <th>max</th>\n",
              "      <td>33380.000000</td>\n",
              "      <td>0.949000</td>\n",
              "      <td>336.000000</td>\n",
              "      <td>1.000000</td>\n",
              "    </tr>\n",
              "  </tbody>\n",
              "</table>\n",
              "</div>"
            ],
            "text/plain": [
              "        enrollee_id  city_development_index  training_hours        target\n",
              "count  19158.000000            19158.000000    19158.000000  19158.000000\n",
              "mean   16875.358179                0.828848       65.366896      0.249348\n",
              "std     9616.292592                0.123362       60.058462      0.432647\n",
              "min        1.000000                0.448000        1.000000      0.000000\n",
              "25%     8554.250000                0.740000       23.000000      0.000000\n",
              "50%    16982.500000                0.903000       47.000000      0.000000\n",
              "75%    25169.750000                0.920000       88.000000      0.000000\n",
              "max    33380.000000                0.949000      336.000000      1.000000"
            ]
          },
          "metadata": {
            "tags": []
          },
          "execution_count": 17
        }
      ]
    },
    {
      "cell_type": "markdown",
      "metadata": {
        "id": "Da8-zVmFBgFR"
      },
      "source": [
        "### To find unique values in each data column "
      ]
    },
    {
      "cell_type": "code",
      "metadata": {
        "id": "3wu5Tc_BzYK9",
        "colab": {
          "base_uri": "https://localhost:8080/"
        },
        "outputId": "90b84e99-21ba-416f-925f-75e6cbecc42d"
      },
      "source": [
        "df.nunique(axis=0) # gives unique values \n",
        "# dtype : int64 -> of right side value (east)"
      ],
      "execution_count": null,
      "outputs": [
        {
          "output_type": "execute_result",
          "data": {
            "text/plain": [
              "enrollee_id               19158\n",
              "city                        123\n",
              "city_development_index       93\n",
              "gender                        3\n",
              "relevent_experience           2\n",
              "enrolled_university           3\n",
              "education_level               5\n",
              "major_discipline              6\n",
              "experience                   22\n",
              "company_size                  8\n",
              "company_type                  6\n",
              "last_new_job                  6\n",
              "training_hours              241\n",
              "target                        2\n",
              "dtype: int64"
            ]
          },
          "metadata": {
            "tags": []
          },
          "execution_count": 18
        }
      ]
    },
    {
      "cell_type": "markdown",
      "metadata": {
        "id": "il_tHlXyBqnx"
      },
      "source": [
        "### To check the NULL/NA values in the Dataset"
      ]
    },
    {
      "cell_type": "code",
      "metadata": {
        "id": "gMzm3MCb0rl8",
        "colab": {
          "base_uri": "https://localhost:8080/"
        },
        "outputId": "9af5cf7f-d962-413b-fcd8-6fd0a6ddd7e6"
      },
      "source": [
        "df.isnull().sum()"
      ],
      "execution_count": null,
      "outputs": [
        {
          "output_type": "execute_result",
          "data": {
            "text/plain": [
              "enrollee_id                  0\n",
              "city                         0\n",
              "city_development_index       0\n",
              "gender                    4508\n",
              "relevent_experience          0\n",
              "enrolled_university        386\n",
              "education_level            460\n",
              "major_discipline          2813\n",
              "experience                  65\n",
              "company_size              5938\n",
              "company_type              6140\n",
              "last_new_job               423\n",
              "training_hours               0\n",
              "target                       0\n",
              "dtype: int64"
            ]
          },
          "metadata": {
            "tags": []
          },
          "execution_count": 19
        }
      ]
    },
    {
      "cell_type": "markdown",
      "metadata": {
        "id": "GEkS8ks9CCNY"
      },
      "source": [
        "## Univariate EDA"
      ]
    },
    {
      "cell_type": "markdown",
      "metadata": {
        "id": "M50AFLz8Ci_8"
      },
      "source": [
        "### Identifying missing values in columns and Replacing them"
      ]
    },
    {
      "cell_type": "markdown",
      "metadata": {
        "id": "Nsv-tKTyx3Bw"
      },
      "source": [
        "#### Replacing the null values in \"gender\", \"enrolled_university\", \"education_level\" and \"educational_level\" columns with \"Other\"\n"
      ]
    },
    {
      "cell_type": "code",
      "metadata": {
        "id": "9bSg0Ab72WFH"
      },
      "source": [
        "requiredColumns = [\"gender\", \"enrolled_university\", \"company_type\"] "
      ],
      "execution_count": null,
      "outputs": []
    },
    {
      "cell_type": "code",
      "metadata": {
        "id": "iW6VXPm70Tkm",
        "colab": {
          "base_uri": "https://localhost:8080/"
        },
        "outputId": "56a775fc-6a97-4ddc-c735-037adbc6462f"
      },
      "source": [
        "for column in requiredColumns:\n",
        "  print(df[column].value_counts()) \n",
        "  print(\"---------------------------------------------\")\n",
        "  print(df[column].isnull().sum(),' Missing Values')\n",
        "  print(\"---------------------------------------------\")\n",
        "  df[column].fillna('Other', inplace=True) "
      ],
      "execution_count": null,
      "outputs": [
        {
          "output_type": "stream",
          "text": [
            "Male      13221\n",
            "Female     1238\n",
            "Other       191\n",
            "Name: gender, dtype: int64\n",
            "---------------------------------------------\n",
            "4508  Missing Values\n",
            "---------------------------------------------\n",
            "no_enrollment       13817\n",
            "Full time course     3757\n",
            "Part time course     1198\n",
            "Name: enrolled_university, dtype: int64\n",
            "---------------------------------------------\n",
            "386  Missing Values\n",
            "---------------------------------------------\n",
            "Pvt Ltd                9817\n",
            "Funded Startup         1001\n",
            "Public Sector           955\n",
            "Early Stage Startup     603\n",
            "NGO                     521\n",
            "Other                   121\n",
            "Name: company_type, dtype: int64\n",
            "---------------------------------------------\n",
            "6140  Missing Values\n",
            "---------------------------------------------\n"
          ],
          "name": "stdout"
        }
      ]
    },
    {
      "cell_type": "code",
      "metadata": {
        "id": "9gUysP7Z7iF9"
      },
      "source": [
        "df[\"education_level\"].fillna(\"Graduate\", inplace = True)"
      ],
      "execution_count": null,
      "outputs": []
    },
    {
      "cell_type": "markdown",
      "metadata": {
        "id": "yHPjJGyiHgCM"
      },
      "source": [
        "#### Replacing the null values of \"major_discipline\" column with Mode value"
      ]
    },
    {
      "cell_type": "code",
      "metadata": {
        "id": "kkcs00szNOoK",
        "colab": {
          "base_uri": "https://localhost:8080/",
          "height": 771
        },
        "outputId": "a0c1f4fd-8873-4ab2-a800-75f110e3d1d7"
      },
      "source": [
        "print(df[\"major_discipline\"].value_counts())\n",
        "print(\"---------------------------------------------\")\n",
        "print(df.isnull().sum(),' Missing Values')\n",
        "print(\"---------------------------------------------\")\n",
        "\n",
        "cols = [\"major_discipline\"]\n",
        "df[cols]=df[cols].fillna(df.mode().iloc[0])\n",
        "df.head(10) "
      ],
      "execution_count": null,
      "outputs": [
        {
          "output_type": "stream",
          "text": [
            "STEM               14492\n",
            "Humanities           669\n",
            "Other                381\n",
            "Business Degree      327\n",
            "Arts                 253\n",
            "No Major             223\n",
            "Name: major_discipline, dtype: int64\n",
            "---------------------------------------------\n",
            "enrollee_id                  0\n",
            "city                         0\n",
            "city_development_index       0\n",
            "gender                       0\n",
            "relevent_experience          0\n",
            "enrolled_university          0\n",
            "education_level              0\n",
            "major_discipline          2813\n",
            "experience                  65\n",
            "company_size              5938\n",
            "company_type                 0\n",
            "last_new_job               423\n",
            "training_hours               0\n",
            "target                       0\n",
            "dtype: int64  Missing Values\n",
            "---------------------------------------------\n"
          ],
          "name": "stdout"
        },
        {
          "output_type": "execute_result",
          "data": {
            "text/html": [
              "<div>\n",
              "<style scoped>\n",
              "    .dataframe tbody tr th:only-of-type {\n",
              "        vertical-align: middle;\n",
              "    }\n",
              "\n",
              "    .dataframe tbody tr th {\n",
              "        vertical-align: top;\n",
              "    }\n",
              "\n",
              "    .dataframe thead th {\n",
              "        text-align: right;\n",
              "    }\n",
              "</style>\n",
              "<table border=\"1\" class=\"dataframe\">\n",
              "  <thead>\n",
              "    <tr style=\"text-align: right;\">\n",
              "      <th></th>\n",
              "      <th>enrollee_id</th>\n",
              "      <th>city</th>\n",
              "      <th>city_development_index</th>\n",
              "      <th>gender</th>\n",
              "      <th>relevent_experience</th>\n",
              "      <th>enrolled_university</th>\n",
              "      <th>education_level</th>\n",
              "      <th>major_discipline</th>\n",
              "      <th>experience</th>\n",
              "      <th>company_size</th>\n",
              "      <th>company_type</th>\n",
              "      <th>last_new_job</th>\n",
              "      <th>training_hours</th>\n",
              "      <th>target</th>\n",
              "    </tr>\n",
              "  </thead>\n",
              "  <tbody>\n",
              "    <tr>\n",
              "      <th>0</th>\n",
              "      <td>8949</td>\n",
              "      <td>city_103</td>\n",
              "      <td>0.920</td>\n",
              "      <td>Male</td>\n",
              "      <td>Has relevent experience</td>\n",
              "      <td>no_enrollment</td>\n",
              "      <td>Graduate</td>\n",
              "      <td>STEM</td>\n",
              "      <td>&gt;20</td>\n",
              "      <td>NaN</td>\n",
              "      <td>Other</td>\n",
              "      <td>1</td>\n",
              "      <td>36</td>\n",
              "      <td>1.0</td>\n",
              "    </tr>\n",
              "    <tr>\n",
              "      <th>1</th>\n",
              "      <td>29725</td>\n",
              "      <td>city_40</td>\n",
              "      <td>0.776</td>\n",
              "      <td>Male</td>\n",
              "      <td>No relevent experience</td>\n",
              "      <td>no_enrollment</td>\n",
              "      <td>Graduate</td>\n",
              "      <td>STEM</td>\n",
              "      <td>15</td>\n",
              "      <td>50-99</td>\n",
              "      <td>Pvt Ltd</td>\n",
              "      <td>&gt;4</td>\n",
              "      <td>47</td>\n",
              "      <td>0.0</td>\n",
              "    </tr>\n",
              "    <tr>\n",
              "      <th>2</th>\n",
              "      <td>11561</td>\n",
              "      <td>city_21</td>\n",
              "      <td>0.624</td>\n",
              "      <td>Other</td>\n",
              "      <td>No relevent experience</td>\n",
              "      <td>Full time course</td>\n",
              "      <td>Graduate</td>\n",
              "      <td>STEM</td>\n",
              "      <td>5</td>\n",
              "      <td>NaN</td>\n",
              "      <td>Other</td>\n",
              "      <td>never</td>\n",
              "      <td>83</td>\n",
              "      <td>0.0</td>\n",
              "    </tr>\n",
              "    <tr>\n",
              "      <th>3</th>\n",
              "      <td>33241</td>\n",
              "      <td>city_115</td>\n",
              "      <td>0.789</td>\n",
              "      <td>Other</td>\n",
              "      <td>No relevent experience</td>\n",
              "      <td>Other</td>\n",
              "      <td>Graduate</td>\n",
              "      <td>Business Degree</td>\n",
              "      <td>&lt;1</td>\n",
              "      <td>NaN</td>\n",
              "      <td>Pvt Ltd</td>\n",
              "      <td>never</td>\n",
              "      <td>52</td>\n",
              "      <td>1.0</td>\n",
              "    </tr>\n",
              "    <tr>\n",
              "      <th>4</th>\n",
              "      <td>666</td>\n",
              "      <td>city_162</td>\n",
              "      <td>0.767</td>\n",
              "      <td>Male</td>\n",
              "      <td>Has relevent experience</td>\n",
              "      <td>no_enrollment</td>\n",
              "      <td>Masters</td>\n",
              "      <td>STEM</td>\n",
              "      <td>&gt;20</td>\n",
              "      <td>50-99</td>\n",
              "      <td>Funded Startup</td>\n",
              "      <td>4</td>\n",
              "      <td>8</td>\n",
              "      <td>0.0</td>\n",
              "    </tr>\n",
              "    <tr>\n",
              "      <th>5</th>\n",
              "      <td>21651</td>\n",
              "      <td>city_176</td>\n",
              "      <td>0.764</td>\n",
              "      <td>Other</td>\n",
              "      <td>Has relevent experience</td>\n",
              "      <td>Part time course</td>\n",
              "      <td>Graduate</td>\n",
              "      <td>STEM</td>\n",
              "      <td>11</td>\n",
              "      <td>NaN</td>\n",
              "      <td>Other</td>\n",
              "      <td>1</td>\n",
              "      <td>24</td>\n",
              "      <td>1.0</td>\n",
              "    </tr>\n",
              "    <tr>\n",
              "      <th>6</th>\n",
              "      <td>28806</td>\n",
              "      <td>city_160</td>\n",
              "      <td>0.920</td>\n",
              "      <td>Male</td>\n",
              "      <td>Has relevent experience</td>\n",
              "      <td>no_enrollment</td>\n",
              "      <td>High School</td>\n",
              "      <td>STEM</td>\n",
              "      <td>5</td>\n",
              "      <td>50-99</td>\n",
              "      <td>Funded Startup</td>\n",
              "      <td>1</td>\n",
              "      <td>24</td>\n",
              "      <td>0.0</td>\n",
              "    </tr>\n",
              "    <tr>\n",
              "      <th>7</th>\n",
              "      <td>402</td>\n",
              "      <td>city_46</td>\n",
              "      <td>0.762</td>\n",
              "      <td>Male</td>\n",
              "      <td>Has relevent experience</td>\n",
              "      <td>no_enrollment</td>\n",
              "      <td>Graduate</td>\n",
              "      <td>STEM</td>\n",
              "      <td>13</td>\n",
              "      <td>&lt;10</td>\n",
              "      <td>Pvt Ltd</td>\n",
              "      <td>&gt;4</td>\n",
              "      <td>18</td>\n",
              "      <td>1.0</td>\n",
              "    </tr>\n",
              "    <tr>\n",
              "      <th>8</th>\n",
              "      <td>27107</td>\n",
              "      <td>city_103</td>\n",
              "      <td>0.920</td>\n",
              "      <td>Male</td>\n",
              "      <td>Has relevent experience</td>\n",
              "      <td>no_enrollment</td>\n",
              "      <td>Graduate</td>\n",
              "      <td>STEM</td>\n",
              "      <td>7</td>\n",
              "      <td>50-99</td>\n",
              "      <td>Pvt Ltd</td>\n",
              "      <td>1</td>\n",
              "      <td>46</td>\n",
              "      <td>1.0</td>\n",
              "    </tr>\n",
              "    <tr>\n",
              "      <th>9</th>\n",
              "      <td>699</td>\n",
              "      <td>city_103</td>\n",
              "      <td>0.920</td>\n",
              "      <td>Other</td>\n",
              "      <td>Has relevent experience</td>\n",
              "      <td>no_enrollment</td>\n",
              "      <td>Graduate</td>\n",
              "      <td>STEM</td>\n",
              "      <td>17</td>\n",
              "      <td>10000+</td>\n",
              "      <td>Pvt Ltd</td>\n",
              "      <td>&gt;4</td>\n",
              "      <td>123</td>\n",
              "      <td>0.0</td>\n",
              "    </tr>\n",
              "  </tbody>\n",
              "</table>\n",
              "</div>"
            ],
            "text/plain": [
              "   enrollee_id      city  ...  training_hours target\n",
              "0         8949  city_103  ...              36    1.0\n",
              "1        29725   city_40  ...              47    0.0\n",
              "2        11561   city_21  ...              83    0.0\n",
              "3        33241  city_115  ...              52    1.0\n",
              "4          666  city_162  ...               8    0.0\n",
              "5        21651  city_176  ...              24    1.0\n",
              "6        28806  city_160  ...              24    0.0\n",
              "7          402   city_46  ...              18    1.0\n",
              "8        27107  city_103  ...              46    1.0\n",
              "9          699  city_103  ...             123    0.0\n",
              "\n",
              "[10 rows x 14 columns]"
            ]
          },
          "metadata": {
            "tags": []
          },
          "execution_count": 23
        }
      ]
    },
    {
      "cell_type": "markdown",
      "metadata": {
        "id": "0-Bi7edd97lx"
      },
      "source": [
        "#### Dropping the null values of \"experience\" column"
      ]
    },
    {
      "cell_type": "code",
      "metadata": {
        "colab": {
          "base_uri": "https://localhost:8080/"
        },
        "id": "lO6o0M4D-Db3",
        "outputId": "98c6f2fb-ffc7-48be-939e-5e9e45cc8f8e"
      },
      "source": [
        "print(df[\"experience\"].value_counts())\n",
        "print(\"---------------------------------------------\")\n",
        "print(df[\"experience\"].isnull().sum(),\"Missing Values\")\n",
        "print(\"---------------------------------------------\")\n",
        "\n",
        "# We are dropping NULL values as we think assigning random values won't be a good idea.\n",
        "\n",
        "df.dropna(inplace=True)\n",
        "\n",
        "# Verifying dimensions after dropping NULL values\n",
        "print(df.shape)"
      ],
      "execution_count": null,
      "outputs": [
        {
          "output_type": "stream",
          "text": [
            ">20    3286\n",
            "5      1430\n",
            "4      1403\n",
            "3      1354\n",
            "6      1216\n",
            "2      1127\n",
            "7      1028\n",
            "10      985\n",
            "9       980\n",
            "8       802\n",
            "15      686\n",
            "11      664\n",
            "14      586\n",
            "1       549\n",
            "<1      522\n",
            "16      508\n",
            "12      494\n",
            "13      399\n",
            "17      342\n",
            "19      304\n",
            "18      280\n",
            "20      148\n",
            "Name: experience, dtype: int64\n",
            "---------------------------------------------\n",
            "65 Missing Values\n",
            "---------------------------------------------\n",
            "(12977, 14)\n"
          ],
          "name": "stdout"
        }
      ]
    },
    {
      "cell_type": "markdown",
      "metadata": {
        "id": "wYDKi8f43YpP"
      },
      "source": [
        "### Plots of features distribution based on count"
      ]
    },
    {
      "cell_type": "code",
      "metadata": {
        "id": "OLyqnLX_4RtR",
        "colab": {
          "base_uri": "https://localhost:8080/",
          "height": 1000
        },
        "outputId": "5f261a42-6bdb-4ddf-9eed-d975e6dc62ad"
      },
      "source": [
        "# visualising the values of each columns, after replacing the null values  \n",
        "\n",
        "university = df[\"enrolled_university\"].value_counts()\n",
        "ax= sns.barplot(x=university.index, y=university.values)\n",
        "plt.xlabel(' Type of university of the enrolled', size = 15, color = \"green\") \n",
        "plt.ylabel('Value', size = 15) \n",
        "plt.title('Enrolled University', color = \"darkred\")\n",
        "plt.show()\n",
        "\n",
        "sex = df[\"gender\"].value_counts()\n",
        "ax= sns.barplot(x=sex.index, y=sex.values)\n",
        "plt.xlabel(' Sex of a Person', size = 15, color = \"green\") \n",
        "plt.ylabel('Value', size = 15) \n",
        "plt.title('Gender', color = \"darkred\")\n",
        "plt.show()\n",
        "\n",
        "exp = df[\"experience\"].value_counts()\n",
        "ax= sns.barplot(x=exp.index, y=exp.values)\n",
        "plt.xlabel('experience', size = 15, color = \"green\") \n",
        "plt.ylabel('Value', size = 15) \n",
        "plt.title('experience', color = \"darkred\")\n",
        "plt.show()\n",
        "\n",
        "lnj = df[\"last_new_job\"].value_counts()\n",
        "ax= sns.barplot(x=lnj.index, y=lnj.values)\n",
        "plt.xlabel('last_new_job', size = 15, color = \"green\") \n",
        "plt.ylabel('Value', size = 15) \n",
        "plt.title('last_new_job', color = \"darkred\")\n",
        "plt.show()\n",
        "\n",
        "el = df[\"education_level\"].value_counts()\n",
        "ax= sns.barplot(x=el.index, y=el.values)\n",
        "plt.xlabel('education_level', size = 15, color = \"green\") \n",
        "plt.ylabel('Value', size = 15) \n",
        "plt.title('education_level', color = \"darkred\")\n",
        "plt.show()\n",
        "\n",
        "md = df[\"major_discipline\"].value_counts()\n",
        "ax= sns.barplot(x=md.index, y=md.values)\n",
        "plt.xlabel('\"major_discipline\"', size = 15, color = \"green\") \n",
        "plt.ylabel('Value', size = 15) \n",
        "plt.title('\"major_discipline\"', color = \"darkred\")\n",
        "plt.show()\n",
        "\n",
        "ct = df[\"company_type\"].value_counts()\n",
        "ax= sns.barplot(x=ct.index, y=ct.values)\n",
        "plt.xlabel(\"company_type\", size = 15, color = \"green\") \n",
        "plt.ylabel('Value', size = 15) \n",
        "plt.title('company_type', color = \"darkred\")\n",
        "plt.show()\n",
        "\n",
        "cs = df[\"company_size\"].value_counts()\n",
        "ax= sns.barplot(x=cs.index, y=cs.values)\n",
        "plt.xlabel('company_size', size = 15, color = \"green\") \n",
        "plt.ylabel('Value', size = 15) \n",
        "plt.title('company_size', color = \"darkred\")\n",
        "plt.show()\n"
      ],
      "execution_count": null,
      "outputs": [
        {
          "output_type": "display_data",
          "data": {
            "image/png": "[encoded data removed]",
            "text/plain": [
              "<Figure size 432x288 with 1 Axes>"
            ]
          },
          "metadata": {
            "tags": [],
            "needs_background": "light"
          }
        },
        {
          "output_type": "display_data",
          "data": {
            "image/png": "[encoded data removed]",
            "text/plain": [
              "<Figure size 432x288 with 1 Axes>"
            ]
          },
          "metadata": {
            "tags": [],
            "needs_background": "light"
          }
        },
        {
          "output_type": "display_data",
          "data": {
            "image/png": "[encoded data removed]",
            "text/plain": [
              "<Figure size 432x288 with 1 Axes>"
            ]
          },
          "metadata": {
            "tags": [],
            "needs_background": "light"
          }
        },
        {
          "output_type": "display_data",
          "data": {
            "image/png": "[encoded data removed]",
            "text/plain": [
              "<Figure size 432x288 with 1 Axes>"
            ]
          },
          "metadata": {
            "tags": [],
            "needs_background": "light"
          }
        },
        {
          "output_type": "display_data",
          "data": {
            "image/png": "[encoded data removed]",
            "text/plain": [
              "<Figure size 432x288 with 1 Axes>"
            ]
          },
          "metadata": {
            "tags": [],
            "needs_background": "light"
          }
        },
        {
          "output_type": "display_data",
          "data": {
            "image/png": "[encoded data removed]",
            "text/plain": [
              "<Figure size 432x288 with 1 Axes>"
            ]
          },
          "metadata": {
            "tags": [],
            "needs_background": "light"
          }
        },
        {
          "output_type": "display_data",
          "data": {
            "image/png": "[encoded data removed]",
            "text/plain": [
              "<Figure size 432x288 with 1 Axes>"
            ]
          },
          "metadata": {
            "tags": [],
            "needs_background": "light"
          }
        },
        {
          "output_type": "display_data",
          "data": {
            "image/png": "[encoded data removed]",
            "text/plain": [
              "<Figure size 432x288 with 1 Axes>"
            ]
          },
          "metadata": {
            "tags": [],
            "needs_background": "light"
          }
        }
      ]
    },
    {
      "cell_type": "markdown",
      "metadata": {
        "id": "gbmXFBmFPWNL"
      },
      "source": [
        "## Label Encoding the necessary Columns"
      ]
    },
    {
      "cell_type": "markdown",
      "metadata": {
        "id": "ZXkx70wa-pXh"
      },
      "source": [
        "### \"experience\" column"
      ]
    },
    {
      "cell_type": "markdown",
      "metadata": {
        "id": "TCzvWnFeSGB7"
      },
      "source": [
        "#### Viewing Unique Values for \"experience\" column"
      ]
    },
    {
      "cell_type": "code",
      "metadata": {
        "colab": {
          "base_uri": "https://localhost:8080/"
        },
        "id": "92uvnYQTUxoR",
        "outputId": "f4c0fdd7-a105-46c5-c6ab-8ece52093f41"
      },
      "source": [
        "df['experience'].unique()"
      ],
      "execution_count": null,
      "outputs": [
        {
          "output_type": "execute_result",
          "data": {
            "text/plain": [
              "array(['15', '>20', '5', '13', '7', '17', '16', '1', '2', '11', '<1',\n",
              "       '14', '18', '19', '12', '10', '4', '6', '9', '3', '8', '20'],\n",
              "      dtype=object)"
            ]
          },
          "metadata": {
            "tags": []
          },
          "execution_count": 26
        }
      ]
    },
    {
      "cell_type": "markdown",
      "metadata": {
        "id": "_GNxzanESTSE"
      },
      "source": [
        "#### Encoding the values of \"experience\" column"
      ]
    },
    {
      "cell_type": "code",
      "metadata": {
        "id": "NRBXttq4VCgq",
        "colab": {
          "base_uri": "https://localhost:8080/"
        },
        "outputId": "6680e197-18b0-4f5b-a2f1-b28891d9a4f0"
      },
      "source": [
        " def replaceExperience(experience):\n",
        "    if experience == '>20':\n",
        "        return 21\n",
        "    elif experience == '<1':\n",
        "        return 0\n",
        "    else:\n",
        "        return experience\n",
        "\n",
        "df.experience =df.experience.map(replaceExperience) \n",
        "df['experience'].unique()       "
      ],
      "execution_count": null,
      "outputs": [
        {
          "output_type": "execute_result",
          "data": {
            "text/plain": [
              "array(['15', 21, '5', '13', '7', '17', '16', '1', '2', '11', 0, '14',\n",
              "       '18', '19', '12', '10', '4', '6', '9', '3', '8', '20'],\n",
              "      dtype=object)"
            ]
          },
          "metadata": {
            "tags": []
          },
          "execution_count": 27
        }
      ]
    },
    {
      "cell_type": "markdown",
      "metadata": {
        "id": "RubfhLIOSsYF"
      },
      "source": [
        "### \"last_new_job\" column"
      ]
    },
    {
      "cell_type": "markdown",
      "metadata": {
        "id": "kRJWZMPCSeU1"
      },
      "source": [
        "#### Viewing Unique Values for \"last_new_job\" column"
      ]
    },
    {
      "cell_type": "code",
      "metadata": {
        "colab": {
          "base_uri": "https://localhost:8080/"
        },
        "id": "WTDaw76zuiHx",
        "outputId": "1c62657c-6fa6-49e1-e03c-b749481c5322"
      },
      "source": [
        "df['last_new_job'].unique()"
      ],
      "execution_count": null,
      "outputs": [
        {
          "output_type": "execute_result",
          "data": {
            "text/plain": [
              "array(['>4', '4', '1', '3', 'never', '2'], dtype=object)"
            ]
          },
          "metadata": {
            "tags": []
          },
          "execution_count": 28
        }
      ]
    },
    {
      "cell_type": "markdown",
      "metadata": {
        "id": "-9lx2SzpSnAi"
      },
      "source": [
        "#### Encoding the values of \"last_new_job\" column"
      ]
    },
    {
      "cell_type": "code",
      "metadata": {
        "id": "JtHSSi6BVK_d",
        "colab": {
          "base_uri": "https://localhost:8080/"
        },
        "outputId": "560a6ed4-53a3-4ffd-aaf5-3af5df89357a"
      },
      "source": [
        "def replaceLastNewJob(last_new_job):\n",
        "    if last_new_job == '>4':\n",
        "        return 5\n",
        "    elif last_new_job == 'never':\n",
        "        return 0\n",
        "\n",
        "    else:\n",
        "        return last_new_job\n",
        "\n",
        "df.last_new_job =df.last_new_job.map(replaceLastNewJob)\n",
        "df['last_new_job'].unique()"
      ],
      "execution_count": null,
      "outputs": [
        {
          "output_type": "execute_result",
          "data": {
            "text/plain": [
              "array([5, '4', '1', '3', 0, '2'], dtype=object)"
            ]
          },
          "metadata": {
            "tags": []
          },
          "execution_count": 29
        }
      ]
    },
    {
      "cell_type": "markdown",
      "metadata": {
        "id": "bzANM75IS0qu"
      },
      "source": [
        "### \"Gender\" column"
      ]
    },
    {
      "cell_type": "markdown",
      "metadata": {
        "id": "qAS6i1H9S6C4"
      },
      "source": [
        "#### Viewing Unique Values for \"gender\" column"
      ]
    },
    {
      "cell_type": "code",
      "metadata": {
        "colab": {
          "base_uri": "https://localhost:8080/"
        },
        "id": "3UBFMdJVLGDW",
        "outputId": "13f20bd3-f815-49fa-ff01-450ffa6323aa"
      },
      "source": [
        "df['gender'].unique()"
      ],
      "execution_count": null,
      "outputs": [
        {
          "output_type": "execute_result",
          "data": {
            "text/plain": [
              "array(['Male', 'Other', 'Female'], dtype=object)"
            ]
          },
          "metadata": {
            "tags": []
          },
          "execution_count": 30
        }
      ]
    },
    {
      "cell_type": "markdown",
      "metadata": {
        "id": "dmoZoKThTC5J"
      },
      "source": [
        "#### Encoding the values"
      ]
    },
    {
      "cell_type": "code",
      "metadata": {
        "id": "vwM5S-x8LDjY",
        "colab": {
          "base_uri": "https://localhost:8080/"
        },
        "outputId": "05a6cf1d-96ca-4e02-ad6d-7d44c3a68b6e"
      },
      "source": [
        "def replacegender(gender):\n",
        "    if gender == 'Male':\n",
        "        return 0\n",
        "    elif gender == 'Female':\n",
        "        return 1\n",
        "    else:\n",
        "        return -1\n",
        "df.gender =df.gender.map(replacegender)\n",
        "df['gender'].unique()"
      ],
      "execution_count": null,
      "outputs": [
        {
          "output_type": "execute_result",
          "data": {
            "text/plain": [
              "array([ 0, -1,  1])"
            ]
          },
          "metadata": {
            "tags": []
          },
          "execution_count": 31
        }
      ]
    },
    {
      "cell_type": "markdown",
      "metadata": {
        "id": "rFkDzebvbN1b"
      },
      "source": [
        "### \"education_level\" column"
      ]
    },
    {
      "cell_type": "markdown",
      "metadata": {
        "id": "VX3eB8PibN1f"
      },
      "source": [
        "#### Viewing Unique Values for \"education_level\" column"
      ]
    },
    {
      "cell_type": "code",
      "metadata": {
        "colab": {
          "base_uri": "https://localhost:8080/"
        },
        "id": "e1Wa_7jabN1j",
        "outputId": "4d2e46f0-70ce-462e-9678-9e16cc9d6f8f"
      },
      "source": [
        "df['education_level'].unique()"
      ],
      "execution_count": null,
      "outputs": [
        {
          "output_type": "execute_result",
          "data": {
            "text/plain": [
              "array(['Graduate', 'Masters', 'High School', 'Phd', 'Primary School'],\n",
              "      dtype=object)"
            ]
          },
          "metadata": {
            "tags": []
          },
          "execution_count": 32
        }
      ]
    },
    {
      "cell_type": "markdown",
      "metadata": {
        "id": "Hp2HgimbbN1s"
      },
      "source": [
        "#### Encoding the values"
      ]
    },
    {
      "cell_type": "code",
      "metadata": {
        "colab": {
          "base_uri": "https://localhost:8080/"
        },
        "id": "oHwH6vBfbN1v",
        "outputId": "2d5483e9-b282-434e-ee2f-dffbc5c7fad8"
      },
      "source": [
        "def replaceEducationLevel(education_level):\n",
        "    if education_level == 'Primary School':\n",
        "        return 0\n",
        "    elif education_level == 'High School':\n",
        "        return 1\n",
        "    elif education_level == 'Graduate':\n",
        "        return 2\n",
        "    elif education_level == 'Masters':\n",
        "        return 3\n",
        "    elif education_level == 'Phd':\n",
        "        return 4\n",
        "    else:\n",
        "        return -1\n",
        "\n",
        "df.education_level =df.education_level.map(replaceEducationLevel)\n",
        "df['education_level'].unique()"
      ],
      "execution_count": null,
      "outputs": [
        {
          "output_type": "execute_result",
          "data": {
            "text/plain": [
              "array([2, 3, 1, 4, 0])"
            ]
          },
          "metadata": {
            "tags": []
          },
          "execution_count": 33
        }
      ]
    },
    {
      "cell_type": "markdown",
      "metadata": {
        "id": "RePOfqguTvTR"
      },
      "source": [
        "## Changing the data type of Variables"
      ]
    },
    {
      "cell_type": "code",
      "metadata": {
        "id": "cq2_YNPlWoHr",
        "colab": {
          "base_uri": "https://localhost:8080/"
        },
        "outputId": "c7fb15dc-93d7-4cde-ab6a-c9e26e87e1f6"
      },
      "source": [
        "df['experience']=df['experience'].astype('int')\n",
        "df['last_new_job']=df['last_new_job'].astype('int')\n",
        "df['target']=df['target'].astype('int64')\n",
        "df.dtypes"
      ],
      "execution_count": null,
      "outputs": [
        {
          "output_type": "execute_result",
          "data": {
            "text/plain": [
              "enrollee_id                 int64\n",
              "city                       object\n",
              "city_development_index    float64\n",
              "gender                      int64\n",
              "relevent_experience        object\n",
              "enrolled_university        object\n",
              "education_level             int64\n",
              "major_discipline           object\n",
              "experience                  int64\n",
              "company_size               object\n",
              "company_type               object\n",
              "last_new_job                int64\n",
              "training_hours              int64\n",
              "target                      int64\n",
              "dtype: object"
            ]
          },
          "metadata": {
            "tags": []
          },
          "execution_count": 34
        }
      ]
    },
    {
      "cell_type": "code",
      "metadata": {
        "colab": {
          "base_uri": "https://localhost:8080/",
          "height": 313
        },
        "id": "wKJ92lTepNI5",
        "outputId": "543cd873-d462-45f5-a360-f1fa473a5f92"
      },
      "source": [
        "df.describe()"
      ],
      "execution_count": null,
      "outputs": [
        {
          "output_type": "execute_result",
          "data": {
            "text/html": [
              "<div>\n",
              "<style scoped>\n",
              "    .dataframe tbody tr th:only-of-type {\n",
              "        vertical-align: middle;\n",
              "    }\n",
              "\n",
              "    .dataframe tbody tr th {\n",
              "        vertical-align: top;\n",
              "    }\n",
              "\n",
              "    .dataframe thead th {\n",
              "        text-align: right;\n",
              "    }\n",
              "</style>\n",
              "<table border=\"1\" class=\"dataframe\">\n",
              "  <thead>\n",
              "    <tr style=\"text-align: right;\">\n",
              "      <th></th>\n",
              "      <th>enrollee_id</th>\n",
              "      <th>city_development_index</th>\n",
              "      <th>gender</th>\n",
              "      <th>education_level</th>\n",
              "      <th>experience</th>\n",
              "      <th>last_new_job</th>\n",
              "      <th>training_hours</th>\n",
              "      <th>target</th>\n",
              "    </tr>\n",
              "  </thead>\n",
              "  <tbody>\n",
              "    <tr>\n",
              "      <th>count</th>\n",
              "      <td>12977.000000</td>\n",
              "      <td>12977.000000</td>\n",
              "      <td>12977.000000</td>\n",
              "      <td>12977.000000</td>\n",
              "      <td>12977.000000</td>\n",
              "      <td>12977.000000</td>\n",
              "      <td>12977.000000</td>\n",
              "      <td>12977.000000</td>\n",
              "    </tr>\n",
              "    <tr>\n",
              "      <th>mean</th>\n",
              "      <td>16720.633351</td>\n",
              "      <td>0.836418</td>\n",
              "      <td>-0.145873</td>\n",
              "      <td>2.232565</td>\n",
              "      <td>10.829468</td>\n",
              "      <td>2.226555</td>\n",
              "      <td>65.693304</td>\n",
              "      <td>0.175850</td>\n",
              "    </tr>\n",
              "    <tr>\n",
              "      <th>std</th>\n",
              "      <td>9688.964703</td>\n",
              "      <td>0.120019</td>\n",
              "      <td>0.512999</td>\n",
              "      <td>0.620257</td>\n",
              "      <td>6.578826</td>\n",
              "      <td>1.640415</td>\n",
              "      <td>60.616975</td>\n",
              "      <td>0.380707</td>\n",
              "    </tr>\n",
              "    <tr>\n",
              "      <th>min</th>\n",
              "      <td>2.000000</td>\n",
              "      <td>0.448000</td>\n",
              "      <td>-1.000000</td>\n",
              "      <td>0.000000</td>\n",
              "      <td>0.000000</td>\n",
              "      <td>0.000000</td>\n",
              "      <td>1.000000</td>\n",
              "      <td>0.000000</td>\n",
              "    </tr>\n",
              "    <tr>\n",
              "      <th>25%</th>\n",
              "      <td>8310.000000</td>\n",
              "      <td>0.762000</td>\n",
              "      <td>0.000000</td>\n",
              "      <td>2.000000</td>\n",
              "      <td>5.000000</td>\n",
              "      <td>1.000000</td>\n",
              "      <td>23.000000</td>\n",
              "      <td>0.000000</td>\n",
              "    </tr>\n",
              "    <tr>\n",
              "      <th>50%</th>\n",
              "      <td>16650.000000</td>\n",
              "      <td>0.910000</td>\n",
              "      <td>0.000000</td>\n",
              "      <td>2.000000</td>\n",
              "      <td>10.000000</td>\n",
              "      <td>1.000000</td>\n",
              "      <td>47.000000</td>\n",
              "      <td>0.000000</td>\n",
              "    </tr>\n",
              "    <tr>\n",
              "      <th>75%</th>\n",
              "      <td>25197.000000</td>\n",
              "      <td>0.920000</td>\n",
              "      <td>0.000000</td>\n",
              "      <td>3.000000</td>\n",
              "      <td>16.000000</td>\n",
              "      <td>4.000000</td>\n",
              "      <td>89.000000</td>\n",
              "      <td>0.000000</td>\n",
              "    </tr>\n",
              "    <tr>\n",
              "      <th>max</th>\n",
              "      <td>33380.000000</td>\n",
              "      <td>0.949000</td>\n",
              "      <td>1.000000</td>\n",
              "      <td>4.000000</td>\n",
              "      <td>21.000000</td>\n",
              "      <td>5.000000</td>\n",
              "      <td>336.000000</td>\n",
              "      <td>1.000000</td>\n",
              "    </tr>\n",
              "  </tbody>\n",
              "</table>\n",
              "</div>"
            ],
            "text/plain": [
              "        enrollee_id  city_development_index  ...  training_hours        target\n",
              "count  12977.000000            12977.000000  ...    12977.000000  12977.000000\n",
              "mean   16720.633351                0.836418  ...       65.693304      0.175850\n",
              "std     9688.964703                0.120019  ...       60.616975      0.380707\n",
              "min        2.000000                0.448000  ...        1.000000      0.000000\n",
              "25%     8310.000000                0.762000  ...       23.000000      0.000000\n",
              "50%    16650.000000                0.910000  ...       47.000000      0.000000\n",
              "75%    25197.000000                0.920000  ...       89.000000      0.000000\n",
              "max    33380.000000                0.949000  ...      336.000000      1.000000\n",
              "\n",
              "[8 rows x 8 columns]"
            ]
          },
          "metadata": {
            "tags": []
          },
          "execution_count": 35
        }
      ]
    },
    {
      "cell_type": "markdown",
      "metadata": {
        "id": "RFi2n96z6kse"
      },
      "source": [
        "## Bivariate EDA"
      ]
    },
    {
      "cell_type": "code",
      "metadata": {
        "colab": {
          "base_uri": "https://localhost:8080/",
          "height": 1000
        },
        "id": "K6-2Eu5Ia8Jd",
        "outputId": "9f359f98-c83b-4d26-d4e8-e930e94e7c59"
      },
      "source": [
        "# bivariate eda : plotting all columns against target column\n",
        "fig_dims = (20, 20)\n",
        "fig, ax =plt.subplots(4,2,figsize = fig_dims)\n",
        "sns.countplot(x = df['gender'],hue = df['target'], ax=ax[0,0], edgecolor=sns.color_palette(\"dark\", 60))\n",
        "sns.countplot(df['education_level'],hue = df['target'], ax=ax[0,1])\n",
        "sns.countplot(x =df['relevent_experience'],hue = df['target'], ax=ax[1,0])\n",
        "sns.countplot(df['enrolled_university'],hue = df['target'], ax=ax[1,1])\n",
        "sns.countplot(x =df['major_discipline'],hue = df['target'], ax=ax[2,0])\n",
        "sns.countplot(x = df['company_type'],hue = df['target'], ax=ax[2,1])\n",
        "sns.countplot(x = df['last_new_job'],hue = df['target'], ax=ax[3,0])\n",
        "sns.countplot(x = df['experience'],hue = df['target'], ax=ax[3,1])\n",
        "\n",
        "fig.suptitle('Features distribution based on target ',fontsize=40)\n",
        "fig.show()"
      ],
      "execution_count": null,
      "outputs": [
        {
          "output_type": "stream",
          "text": [
            "/usr/local/lib/python3.7/dist-packages/seaborn/_decorators.py:43: FutureWarning: Pass the following variable as a keyword arg: x. From version 0.12, the only valid positional argument will be `data`, and passing other arguments without an explicit keyword will result in an error or misinterpretation.\n",
            "  FutureWarning\n",
            "/usr/local/lib/python3.7/dist-packages/seaborn/_decorators.py:43: FutureWarning: Pass the following variable as a keyword arg: x. From version 0.12, the only valid positional argument will be `data`, and passing other arguments without an explicit keyword will result in an error or misinterpretation.\n",
            "  FutureWarning\n"
          ],
          "name": "stderr"
        },
        {
          "output_type": "display_data",
          "data": {
            "image/png": "[encoded data removed]",
            "text/plain": [
              "<Figure size 1440x1440 with 8 Axes>"
            ]
          },
          "metadata": {
            "tags": [],
            "needs_background": "light"
          }
        }
      ]
    },
    {
      "cell_type": "code",
      "metadata": {
        "colab": {
          "base_uri": "https://localhost:8080/",
          "height": 619
        },
        "id": "4RHx6vT1WiJ3",
        "outputId": "fdefebe1-7d58-4948-f013-562a1f51485d"
      },
      "source": [
        "# corr() -> to find coreeltion between numneric values\n",
        "corrmat=df.corr()\n",
        "top_corr_features=corrmat.index \n",
        "plt.figure(figsize=(8,8)) \n",
        "#plot heat map \n",
        "#heighesst value -> highly corelates\n",
        "# sighs represent proportinality \n",
        "g=sns.heatmap(df[top_corr_features].corr(),annot=True,cmap=\"RdYlGn\")"
      ],
      "execution_count": null,
      "outputs": [
        {
          "output_type": "display_data",
          "data": {
            "image/png": "[encoded data removed]",
            "text/plain": [
              "<Figure size 576x576 with 2 Axes>"
            ]
          },
          "metadata": {
            "tags": [],
            "needs_background": "light"
          }
        }
      ]
    },
    {
      "cell_type": "code",
      "metadata": {
        "colab": {
          "base_uri": "https://localhost:8080/",
          "height": 300
        },
        "id": "fgR5gmygcczp",
        "outputId": "367ff79d-7f44-40e5-f9c1-cff246c8c3d0"
      },
      "source": [
        "d = sns.kdeplot(df['gender'][(df[\"target\"] == 0) & (df['city_development_index'].notnull())], color=\"Red\", shade = True)\n",
        "d = sns.kdeplot(df['gender'][(df[\"target\"] == 1) & (df['city_development_index'].notnull())], ax =d, color=\"Blue\", shade= True)\n",
        "d.set_xlabel('gender')\n",
        "d.set_ylabel(\"Frequency\")\n",
        "d = d.legend([\"Not looking for job change,\",\"looking for job change,\"])"
      ],
      "execution_count": null,
      "outputs": [
        {
          "output_type": "display_data",
          "data": {
            "image/png": "[encoded data removed]",
            "text/plain": [
              "<Figure size 432x288 with 1 Axes>"
            ]
          },
          "metadata": {
            "tags": [],
            "needs_background": "light"
          }
        }
      ]
    },
    {
      "cell_type": "code",
      "metadata": {
        "colab": {
          "base_uri": "https://localhost:8080/",
          "height": 300
        },
        "id": "ERDCj13K6GJu",
        "outputId": "fa0c81b9-bbb8-4db5-e957-9e3837a0cdde"
      },
      "source": [
        "d = sns.kdeplot(df['city_development_index'][(df[\"target\"] == 0) & (df['city_development_index'].notnull())], color=\"Red\", shade = True)\n",
        "d = sns.kdeplot(df['city_development_index'][(df[\"target\"] == 1) & (df['city_development_index'].notnull())], ax =d, color=\"Blue\", shade= True)\n",
        "d.set_xlabel('city_development_index')\n",
        "d.set_ylabel(\"Frequency\")\n",
        "d = d.legend([\"Not looking for job change,\",\"looking for job change,\"])"
      ],
      "execution_count": null,
      "outputs": [
        {
          "output_type": "display_data",
          "data": {
            "image/png": "[encoded data removed]",
            "text/plain": [
              "<Figure size 432x288 with 1 Axes>"
            ]
          },
          "metadata": {
            "tags": [],
            "needs_background": "light"
          }
        }
      ]
    },
    {
      "cell_type": "code",
      "metadata": {
        "colab": {
          "base_uri": "https://localhost:8080/",
          "height": 300
        },
        "id": "FGGseC-BQjET",
        "outputId": "10621135-219b-4cd1-ba96-053ff0a927f7"
      },
      "source": [
        "d = sns.kdeplot(df['experience'][(df[\"target\"] == 0) & (df['city_development_index'].notnull())], color=\"Red\", shade = True)\n",
        "d = sns.kdeplot(df['experience'][(df[\"target\"] == 1) & (df['city_development_index'].notnull())], ax =d, color=\"Blue\", shade= True)\n",
        "d.set_xlabel('experience')\n",
        "d.set_ylabel(\"Frequency\")\n",
        "d = d.legend([\"Not looking for job change,\",\"looking for job change,\"])"
      ],
      "execution_count": null,
      "outputs": [
        {
          "output_type": "display_data",
          "data": {
            "image/png": "[encoded data removed]",
            "text/plain": [
              "<Figure size 432x288 with 1 Axes>"
            ]
          },
          "metadata": {
            "tags": [],
            "needs_background": "light"
          }
        }
      ]
    },
    {
      "cell_type": "code",
      "metadata": {
        "colab": {
          "base_uri": "https://localhost:8080/",
          "height": 302
        },
        "id": "vhtScy1hRjIr",
        "outputId": "c7e306b9-2082-4a07-d4e2-74602365c147"
      },
      "source": [
        "d = sns.kdeplot(df['training_hours'][(df[\"target\"] == 0) & (df['city_development_index'].notnull())], color=\"Red\", shade = True)\n",
        "d = sns.kdeplot(df['training_hours'][(df[\"target\"] == 1) & (df['city_development_index'].notnull())], ax =d, color=\"Blue\", shade= True)\n",
        "d.set_xlabel('training_hours')\n",
        "d.set_ylabel(\"Frequency\")\n",
        "d = d.legend([\"Not looking for job change,\",\"looking for job change,\"])"
      ],
      "execution_count": null,
      "outputs": [
        {
          "output_type": "display_data",
          "data": {
            "image/png": "[encoded data removed]",
            "text/plain": [
              "<Figure size 432x288 with 1 Axes>"
            ]
          },
          "metadata": {
            "tags": [],
            "needs_background": "light"
          }
        }
      ]
    },
    {
      "cell_type": "markdown",
      "metadata": {
        "id": "h2A5hNUm8RSq"
      },
      "source": [
        "## Label Encoding the Categorical Variables"
      ]
    },
    {
      "cell_type": "code",
      "metadata": {
        "id": "GKnQkcaqT3mC",
        "colab": {
          "base_uri": "https://localhost:8080/",
          "height": 254
        },
        "outputId": "c5931bc0-5659-4b73-ee0a-89439392eabb"
      },
      "source": [
        "# technique for handling categorical variables. \n",
        "# In this technique, each label is assigned a unique integer based on alphabetical ordering.\n",
        "df1 = df.copy() # making a copy of clean data set\n",
        "df1 = pd.get_dummies(df1,\n",
        "                    columns=['relevent_experience', 'enrolled_university', 'major_discipline', 'company_type'],\n",
        "                    drop_first=True) # makes label \n",
        "print(df1.shape)\n",
        "df1.head(5)"
      ],
      "execution_count": null,
      "outputs": [
        {
          "output_type": "stream",
          "text": [
            "(12977, 24)\n"
          ],
          "name": "stdout"
        },
        {
          "output_type": "execute_result",
          "data": {
            "text/html": [
              "<div>\n",
              "<style scoped>\n",
              "    .dataframe tbody tr th:only-of-type {\n",
              "        vertical-align: middle;\n",
              "    }\n",
              "\n",
              "    .dataframe tbody tr th {\n",
              "        vertical-align: top;\n",
              "    }\n",
              "\n",
              "    .dataframe thead th {\n",
              "        text-align: right;\n",
              "    }\n",
              "</style>\n",
              "<table border=\"1\" class=\"dataframe\">\n",
              "  <thead>\n",
              "    <tr style=\"text-align: right;\">\n",
              "      <th></th>\n",
              "      <th>enrollee_id</th>\n",
              "      <th>city</th>\n",
              "      <th>city_development_index</th>\n",
              "      <th>gender</th>\n",
              "      <th>education_level</th>\n",
              "      <th>experience</th>\n",
              "      <th>company_size</th>\n",
              "      <th>last_new_job</th>\n",
              "      <th>training_hours</th>\n",
              "      <th>target</th>\n",
              "      <th>relevent_experience_No relevent experience</th>\n",
              "      <th>enrolled_university_Other</th>\n",
              "      <th>enrolled_university_Part time course</th>\n",
              "      <th>enrolled_university_no_enrollment</th>\n",
              "      <th>major_discipline_Business Degree</th>\n",
              "      <th>major_discipline_Humanities</th>\n",
              "      <th>major_discipline_No Major</th>\n",
              "      <th>major_discipline_Other</th>\n",
              "      <th>major_discipline_STEM</th>\n",
              "      <th>company_type_Funded Startup</th>\n",
              "      <th>company_type_NGO</th>\n",
              "      <th>company_type_Other</th>\n",
              "      <th>company_type_Public Sector</th>\n",
              "      <th>company_type_Pvt Ltd</th>\n",
              "    </tr>\n",
              "  </thead>\n",
              "  <tbody>\n",
              "    <tr>\n",
              "      <th>1</th>\n",
              "      <td>29725</td>\n",
              "      <td>city_40</td>\n",
              "      <td>0.776</td>\n",
              "      <td>0</td>\n",
              "      <td>2</td>\n",
              "      <td>15</td>\n",
              "      <td>50-99</td>\n",
              "      <td>5</td>\n",
              "      <td>47</td>\n",
              "      <td>0</td>\n",
              "      <td>1</td>\n",
              "      <td>0</td>\n",
              "      <td>0</td>\n",
              "      <td>1</td>\n",
              "      <td>0</td>\n",
              "      <td>0</td>\n",
              "      <td>0</td>\n",
              "      <td>0</td>\n",
              "      <td>1</td>\n",
              "      <td>0</td>\n",
              "      <td>0</td>\n",
              "      <td>0</td>\n",
              "      <td>0</td>\n",
              "      <td>1</td>\n",
              "    </tr>\n",
              "    <tr>\n",
              "      <th>4</th>\n",
              "      <td>666</td>\n",
              "      <td>city_162</td>\n",
              "      <td>0.767</td>\n",
              "      <td>0</td>\n",
              "      <td>3</td>\n",
              "      <td>21</td>\n",
              "      <td>50-99</td>\n",
              "      <td>4</td>\n",
              "      <td>8</td>\n",
              "      <td>0</td>\n",
              "      <td>0</td>\n",
              "      <td>0</td>\n",
              "      <td>0</td>\n",
              "      <td>1</td>\n",
              "      <td>0</td>\n",
              "      <td>0</td>\n",
              "      <td>0</td>\n",
              "      <td>0</td>\n",
              "      <td>1</td>\n",
              "      <td>1</td>\n",
              "      <td>0</td>\n",
              "      <td>0</td>\n",
              "      <td>0</td>\n",
              "      <td>0</td>\n",
              "    </tr>\n",
              "    <tr>\n",
              "      <th>6</th>\n",
              "      <td>28806</td>\n",
              "      <td>city_160</td>\n",
              "      <td>0.920</td>\n",
              "      <td>0</td>\n",
              "      <td>1</td>\n",
              "      <td>5</td>\n",
              "      <td>50-99</td>\n",
              "      <td>1</td>\n",
              "      <td>24</td>\n",
              "      <td>0</td>\n",
              "      <td>0</td>\n",
              "      <td>0</td>\n",
              "      <td>0</td>\n",
              "      <td>1</td>\n",
              "      <td>0</td>\n",
              "      <td>0</td>\n",
              "      <td>0</td>\n",
              "      <td>0</td>\n",
              "      <td>1</td>\n",
              "      <td>1</td>\n",
              "      <td>0</td>\n",
              "      <td>0</td>\n",
              "      <td>0</td>\n",
              "      <td>0</td>\n",
              "    </tr>\n",
              "    <tr>\n",
              "      <th>7</th>\n",
              "      <td>402</td>\n",
              "      <td>city_46</td>\n",
              "      <td>0.762</td>\n",
              "      <td>0</td>\n",
              "      <td>2</td>\n",
              "      <td>13</td>\n",
              "      <td>&lt;10</td>\n",
              "      <td>5</td>\n",
              "      <td>18</td>\n",
              "      <td>1</td>\n",
              "      <td>0</td>\n",
              "      <td>0</td>\n",
              "      <td>0</td>\n",
              "      <td>1</td>\n",
              "      <td>0</td>\n",
              "      <td>0</td>\n",
              "      <td>0</td>\n",
              "      <td>0</td>\n",
              "      <td>1</td>\n",
              "      <td>0</td>\n",
              "      <td>0</td>\n",
              "      <td>0</td>\n",
              "      <td>0</td>\n",
              "      <td>1</td>\n",
              "    </tr>\n",
              "    <tr>\n",
              "      <th>8</th>\n",
              "      <td>27107</td>\n",
              "      <td>city_103</td>\n",
              "      <td>0.920</td>\n",
              "      <td>0</td>\n",
              "      <td>2</td>\n",
              "      <td>7</td>\n",
              "      <td>50-99</td>\n",
              "      <td>1</td>\n",
              "      <td>46</td>\n",
              "      <td>1</td>\n",
              "      <td>0</td>\n",
              "      <td>0</td>\n",
              "      <td>0</td>\n",
              "      <td>1</td>\n",
              "      <td>0</td>\n",
              "      <td>0</td>\n",
              "      <td>0</td>\n",
              "      <td>0</td>\n",
              "      <td>1</td>\n",
              "      <td>0</td>\n",
              "      <td>0</td>\n",
              "      <td>0</td>\n",
              "      <td>0</td>\n",
              "      <td>1</td>\n",
              "    </tr>\n",
              "  </tbody>\n",
              "</table>\n",
              "</div>"
            ],
            "text/plain": [
              "   enrollee_id      city  ...  company_type_Public Sector  company_type_Pvt Ltd\n",
              "1        29725   city_40  ...                           0                     1\n",
              "4          666  city_162  ...                           0                     0\n",
              "6        28806  city_160  ...                           0                     0\n",
              "7          402   city_46  ...                           0                     1\n",
              "8        27107  city_103  ...                           0                     1\n",
              "\n",
              "[5 rows x 24 columns]"
            ]
          },
          "metadata": {
            "tags": []
          },
          "execution_count": 42
        }
      ]
    },
    {
      "cell_type": "markdown",
      "metadata": {
        "id": "ou5l1o4B4Cdc"
      },
      "source": [
        "## Analyzing Target Variable"
      ]
    },
    {
      "cell_type": "code",
      "metadata": {
        "colab": {
          "base_uri": "https://localhost:8080/"
        },
        "id": "lqOHQ52j4BcQ",
        "outputId": "92c51bf2-bfdd-4eaa-a979-71801c5cf866"
      },
      "source": [
        "print(df['target'].value_counts())"
      ],
      "execution_count": null,
      "outputs": [
        {
          "output_type": "stream",
          "text": [
            "0    10695\n",
            "1     2282\n",
            "Name: target, dtype: int64\n"
          ],
          "name": "stdout"
        }
      ]
    },
    {
      "cell_type": "code",
      "metadata": {
        "id": "J4gNVIvJocE2",
        "colab": {
          "base_uri": "https://localhost:8080/",
          "height": 340
        },
        "outputId": "d2808ef1-6775-4c36-8b7d-58543c365632"
      },
      "source": [
        "values = df['target'].value_counts().values.tolist()\n",
        "labels = df['target'].value_counts().index\n",
        "plt.figure(figsize= (5,5))\n",
        "plt.title('Comparing labels of target feature')\n",
        "plt.pie(x = values, labels = labels, autopct='%1.1f%%', pctdistance= .5)\n",
        "plt.show()"
      ],
      "execution_count": null,
      "outputs": [
        {
          "output_type": "display_data",
          "data": {
            "image/png": "[encoded data removed]",
            "text/plain": [
              "<Figure size 360x360 with 1 Axes>"
            ]
          },
          "metadata": {
            "tags": []
          }
        }
      ]
    },
    {
      "cell_type": "code",
      "metadata": {
        "colab": {
          "base_uri": "https://localhost:8080/",
          "height": 300
        },
        "id": "5srfiIHuLnu0",
        "outputId": "879080d0-5df1-4195-d039-effe8a74e719"
      },
      "source": [
        "sns.countplot(data=df, x='target')\n",
        "plt.show()"
      ],
      "execution_count": null,
      "outputs": [
        {
          "output_type": "display_data",
          "data": {
            "image/png": "[encoded data removed]",
            "text/plain": [
              "<Figure size 432x288 with 1 Axes>"
            ]
          },
          "metadata": {
            "tags": [],
            "needs_background": "light"
          }
        }
      ]
    },
    {
      "cell_type": "markdown",
      "metadata": {
        "id": "F4r3DHrW8vO5"
      },
      "source": [
        "## Dropping the Unnecessary Columns"
      ]
    },
    {
      "cell_type": "code",
      "metadata": {
        "id": "gnj2i8XOZoh3",
        "colab": {
          "base_uri": "https://localhost:8080/",
          "height": 238
        },
        "outputId": "ffa3b614-78ce-4d3c-d562-3c0c375921f0"
      },
      "source": [
        "df1.drop(columns=['enrollee_id','city','company_size'],axis=1,inplace=True)\n",
        "df1.head(5)"
      ],
      "execution_count": null,
      "outputs": [
        {
          "output_type": "execute_result",
          "data": {
            "text/html": [
              "<div>\n",
              "<style scoped>\n",
              "    .dataframe tbody tr th:only-of-type {\n",
              "        vertical-align: middle;\n",
              "    }\n",
              "\n",
              "    .dataframe tbody tr th {\n",
              "        vertical-align: top;\n",
              "    }\n",
              "\n",
              "    .dataframe thead th {\n",
              "        text-align: right;\n",
              "    }\n",
              "</style>\n",
              "<table border=\"1\" class=\"dataframe\">\n",
              "  <thead>\n",
              "    <tr style=\"text-align: right;\">\n",
              "      <th></th>\n",
              "      <th>city_development_index</th>\n",
              "      <th>gender</th>\n",
              "      <th>education_level</th>\n",
              "      <th>experience</th>\n",
              "      <th>last_new_job</th>\n",
              "      <th>training_hours</th>\n",
              "      <th>target</th>\n",
              "      <th>relevent_experience_No relevent experience</th>\n",
              "      <th>enrolled_university_Other</th>\n",
              "      <th>enrolled_university_Part time course</th>\n",
              "      <th>enrolled_university_no_enrollment</th>\n",
              "      <th>major_discipline_Business Degree</th>\n",
              "      <th>major_discipline_Humanities</th>\n",
              "      <th>major_discipline_No Major</th>\n",
              "      <th>major_discipline_Other</th>\n",
              "      <th>major_discipline_STEM</th>\n",
              "      <th>company_type_Funded Startup</th>\n",
              "      <th>company_type_NGO</th>\n",
              "      <th>company_type_Other</th>\n",
              "      <th>company_type_Public Sector</th>\n",
              "      <th>company_type_Pvt Ltd</th>\n",
              "    </tr>\n",
              "  </thead>\n",
              "  <tbody>\n",
              "    <tr>\n",
              "      <th>1</th>\n",
              "      <td>0.776</td>\n",
              "      <td>0</td>\n",
              "      <td>2</td>\n",
              "      <td>15</td>\n",
              "      <td>5</td>\n",
              "      <td>47</td>\n",
              "      <td>0</td>\n",
              "      <td>1</td>\n",
              "      <td>0</td>\n",
              "      <td>0</td>\n",
              "      <td>1</td>\n",
              "      <td>0</td>\n",
              "      <td>0</td>\n",
              "      <td>0</td>\n",
              "      <td>0</td>\n",
              "      <td>1</td>\n",
              "      <td>0</td>\n",
              "      <td>0</td>\n",
              "      <td>0</td>\n",
              "      <td>0</td>\n",
              "      <td>1</td>\n",
              "    </tr>\n",
              "    <tr>\n",
              "      <th>4</th>\n",
              "      <td>0.767</td>\n",
              "      <td>0</td>\n",
              "      <td>3</td>\n",
              "      <td>21</td>\n",
              "      <td>4</td>\n",
              "      <td>8</td>\n",
              "      <td>0</td>\n",
              "      <td>0</td>\n",
              "      <td>0</td>\n",
              "      <td>0</td>\n",
              "      <td>1</td>\n",
              "      <td>0</td>\n",
              "      <td>0</td>\n",
              "      <td>0</td>\n",
              "      <td>0</td>\n",
              "      <td>1</td>\n",
              "      <td>1</td>\n",
              "      <td>0</td>\n",
              "      <td>0</td>\n",
              "      <td>0</td>\n",
              "      <td>0</td>\n",
              "    </tr>\n",
              "    <tr>\n",
              "      <th>6</th>\n",
              "      <td>0.920</td>\n",
              "      <td>0</td>\n",
              "      <td>1</td>\n",
              "      <td>5</td>\n",
              "      <td>1</td>\n",
              "      <td>24</td>\n",
              "      <td>0</td>\n",
              "      <td>0</td>\n",
              "      <td>0</td>\n",
              "      <td>0</td>\n",
              "      <td>1</td>\n",
              "      <td>0</td>\n",
              "      <td>0</td>\n",
              "      <td>0</td>\n",
              "      <td>0</td>\n",
              "      <td>1</td>\n",
              "      <td>1</td>\n",
              "      <td>0</td>\n",
              "      <td>0</td>\n",
              "      <td>0</td>\n",
              "      <td>0</td>\n",
              "    </tr>\n",
              "    <tr>\n",
              "      <th>7</th>\n",
              "      <td>0.762</td>\n",
              "      <td>0</td>\n",
              "      <td>2</td>\n",
              "      <td>13</td>\n",
              "      <td>5</td>\n",
              "      <td>18</td>\n",
              "      <td>1</td>\n",
              "      <td>0</td>\n",
              "      <td>0</td>\n",
              "      <td>0</td>\n",
              "      <td>1</td>\n",
              "      <td>0</td>\n",
              "      <td>0</td>\n",
              "      <td>0</td>\n",
              "      <td>0</td>\n",
              "      <td>1</td>\n",
              "      <td>0</td>\n",
              "      <td>0</td>\n",
              "      <td>0</td>\n",
              "      <td>0</td>\n",
              "      <td>1</td>\n",
              "    </tr>\n",
              "    <tr>\n",
              "      <th>8</th>\n",
              "      <td>0.920</td>\n",
              "      <td>0</td>\n",
              "      <td>2</td>\n",
              "      <td>7</td>\n",
              "      <td>1</td>\n",
              "      <td>46</td>\n",
              "      <td>1</td>\n",
              "      <td>0</td>\n",
              "      <td>0</td>\n",
              "      <td>0</td>\n",
              "      <td>1</td>\n",
              "      <td>0</td>\n",
              "      <td>0</td>\n",
              "      <td>0</td>\n",
              "      <td>0</td>\n",
              "      <td>1</td>\n",
              "      <td>0</td>\n",
              "      <td>0</td>\n",
              "      <td>0</td>\n",
              "      <td>0</td>\n",
              "      <td>1</td>\n",
              "    </tr>\n",
              "  </tbody>\n",
              "</table>\n",
              "</div>"
            ],
            "text/plain": [
              "   city_development_index  ...  company_type_Pvt Ltd\n",
              "1                   0.776  ...                     1\n",
              "4                   0.767  ...                     0\n",
              "6                   0.920  ...                     0\n",
              "7                   0.762  ...                     1\n",
              "8                   0.920  ...                     1\n",
              "\n",
              "[5 rows x 21 columns]"
            ]
          },
          "metadata": {
            "tags": []
          },
          "execution_count": 46
        }
      ]
    },
    {
      "cell_type": "markdown",
      "metadata": {
        "id": "0wBNLIxm9O8K"
      },
      "source": [
        "## Splitting the dataset into Inputs and Output"
      ]
    },
    {
      "cell_type": "code",
      "metadata": {
        "id": "y_XUj-3UPBkx"
      },
      "source": [
        "X = df1.drop(['target'], axis=1)\n",
        "y = df1['target']"
      ],
      "execution_count": null,
      "outputs": []
    },
    {
      "cell_type": "markdown",
      "metadata": {
        "id": "MKs5yiFyNHYG"
      },
      "source": [
        "## Feature Importance\n"
      ]
    },
    {
      "cell_type": "code",
      "metadata": {
        "colab": {
          "base_uri": "https://localhost:8080/"
        },
        "id": "iK38nNw7zcQb",
        "outputId": "6fb86487-0aeb-44c7-d1e1-4fcecc3e2e6d"
      },
      "source": [
        "from sklearn.ensemble import ExtraTreesClassifier\n",
        "model=ExtraTreesClassifier()\n",
        "model.fit(X,y)\n",
        "print(model.feature_importances_)"
      ],
      "execution_count": null,
      "outputs": [
        {
          "output_type": "stream",
          "text": [
            "[0.3108481  0.03409933 0.04755845 0.1622595  0.06846062 0.28753956\n",
            " 0.01435043 0.00338198 0.00730406 0.01218134 0.00233031 0.00271474\n",
            " 0.001684   0.00217208 0.0052081  0.00567375 0.00571467 0.00717634\n",
            " 0.00686317 0.01247946]\n"
          ],
          "name": "stdout"
        }
      ]
    },
    {
      "cell_type": "markdown",
      "metadata": {
        "id": "4VeNfbph-hlZ"
      },
      "source": [
        "### Plotting Best Five Features "
      ]
    },
    {
      "cell_type": "code",
      "metadata": {
        "colab": {
          "base_uri": "https://localhost:8080/",
          "height": 286
        },
        "id": "CmsRUO5anjT1",
        "outputId": "fbdda992-02af-4945-949d-d4021b5f135e"
      },
      "source": [
        "#plot graph of feature importances for better visualization \n",
        "feat_importances = pd.Series(model.feature_importances_, index=X.columns) \n",
        "feat_importances.nlargest(5).plot(kind='barh') \n",
        "plt.show()"
      ],
      "execution_count": null,
      "outputs": [
        {
          "output_type": "display_data",
          "data": {
            "image/png": "[encoded data removed]",
            "text/plain": [
              "<Figure size 432x288 with 1 Axes>"
            ]
          },
          "metadata": {
            "tags": [],
            "needs_background": "light"
          }
        }
      ]
    },
    {
      "cell_type": "markdown",
      "metadata": {
        "id": "61O7X9WRkOlO"
      },
      "source": [
        "## Train test Split"
      ]
    },
    {
      "cell_type": "code",
      "metadata": {
        "id": "PkTXxZq1kRvJ"
      },
      "source": [
        "from sklearn.model_selection import train_test_split\n",
        "X_train, X_test, y_train, y_test = train_test_split(X, y, test_size = 0.3, random_state = 0)"
      ],
      "execution_count": null,
      "outputs": []
    },
    {
      "cell_type": "markdown",
      "metadata": {
        "id": "_n2EJAe6ZTwC"
      },
      "source": [
        "#### Rescaling of data"
      ]
    },
    {
      "cell_type": "code",
      "metadata": {
        "id": "gJATD3jnhKDp"
      },
      "source": [
        "  from sklearn.preprocessing import StandardScaler\n",
        "  sc=StandardScaler()\n",
        "  X_train=sc.fit_transform(X_train)\n",
        "  X_test=sc.transform(X_test)"
      ],
      "execution_count": null,
      "outputs": []
    },
    {
      "cell_type": "code",
      "metadata": {
        "colab": {
          "base_uri": "https://localhost:8080/"
        },
        "id": "QGyWAicq0zs2",
        "outputId": "bc7a5c90-0bb4-4d14-d600-bafae9efe13a"
      },
      "source": [
        "print(X_train.shape)\n",
        "print(X_test.shape)\n",
        "print(y_train.shape)\n",
        "print(y_test.shape)"
      ],
      "execution_count": null,
      "outputs": [
        {
          "output_type": "stream",
          "text": [
            "(9083, 20)\n",
            "(3894, 20)\n",
            "(9083,)\n",
            "(3894,)\n"
          ],
          "name": "stdout"
        }
      ]
    },
    {
      "cell_type": "markdown",
      "metadata": {
        "id": "E-h7gffykKa3"
      },
      "source": [
        "## Model Building "
      ]
    },
    {
      "cell_type": "code",
      "metadata": {
        "id": "2S3nRiypY2mi"
      },
      "source": [
        "result=[]"
      ],
      "execution_count": null,
      "outputs": []
    },
    {
      "cell_type": "markdown",
      "metadata": {
        "id": "xruX_z3X-3TJ"
      },
      "source": [
        "### KNN"
      ]
    },
    {
      "cell_type": "code",
      "metadata": {
        "colab": {
          "base_uri": "https://localhost:8080/",
          "height": 533
        },
        "id": "Yg75rQPxP_m7",
        "outputId": "996a84b6-fce8-461d-9636-3ec05c75bad1"
      },
      "source": [
        "# To plot the Elbow Diagram\n",
        "\n",
        "from sklearn.cluster import KMeans\n",
        "distortions = []\n",
        "K = range(1,10)\n",
        "for k in K:\n",
        "    kmeanModel = KMeans(n_clusters=k)\n",
        "    kmeanModel.fit(df1)\n",
        "    distortions.append(kmeanModel.inertia_)\n",
        "\n",
        "plt.figure(figsize=(16,8))\n",
        "plt.plot(K, distortions, 'bx-')\n",
        "plt.xlabel('k')\n",
        "plt.ylabel('Distortion')\n",
        "plt.title('The Elbow Method showing the optimal k')\n",
        "plt.show()"
      ],
      "execution_count": null,
      "outputs": [
        {
          "output_type": "display_data",
          "data": {
            "image/png": "[encoded data removed]",
            "text/plain": [
              "<Figure size 1152x576 with 1 Axes>"
            ]
          },
          "metadata": {
            "tags": [],
            "needs_background": "light"
          }
        }
      ]
    },
    {
      "cell_type": "code",
      "metadata": {
        "id": "jIBZlfZOkJqE",
        "colab": {
          "base_uri": "https://localhost:8080/"
        },
        "outputId": "ac57cacd-0840-469c-f68d-0ae0b505bda7"
      },
      "source": [
        "# Modelling KNN\n",
        "# we are deciding k based on the the elbow, even though we get better accuracy with other values as well \n",
        "\n",
        "from sklearn.neighbors import KNeighborsClassifier\n",
        "kn=KNeighborsClassifier(n_neighbors=3,weights='distance',p=2)\n",
        "kn.fit(X_train,y_train)\n",
        "knn_y_pred = kn.predict(X_test)\n",
        "  \n",
        "from sklearn.metrics import confusion_matrix,accuracy_score\n",
        "cm=confusion_matrix(y_test,knn_y_pred)\n",
        "print(' \\n The confusion matrix and accuracy score for n_neighbors = ','\\n')\n",
        "print(cm)\n",
        "print(' \\n The accuracy score for n_neighbors = ','\\n')\n",
        "print(accuracy_score(y_test,knn_y_pred))  \n",
        "acc_knn=accuracy_score(y_test,knn_y_pred)  \n",
        "result.append(acc_knn)"
      ],
      "execution_count": null,
      "outputs": [
        {
          "output_type": "stream",
          "text": [
            " \n",
            " The confusion matrix and accuracy score for n_neighbors =  \n",
            "\n",
            "[[2953  295]\n",
            " [ 432  214]]\n",
            " \n",
            " The accuracy score for n_neighbors =  \n",
            "\n",
            "0.8133025166923472\n"
          ],
          "name": "stdout"
        }
      ]
    },
    {
      "cell_type": "markdown",
      "metadata": {
        "id": "PVjeCxeu0hdI"
      },
      "source": [
        "#### A function to get best parameters for KNN"
      ]
    },
    {
      "cell_type": "code",
      "metadata": {
        "id": "B-sE8hg2k2Wg"
      },
      "source": [
        "def print_results(results):\n",
        "    # print('BEST PARAMS: {}\\n'.format(results.best_params_))\n",
        "\n",
        "    means = results.cv_results_['mean_test_score']\n",
        "    stds = results.cv_results_['std_test_score']\n",
        "\n",
        "    for mean, std, params in zip(means, stds, results.cv_results_['params']):\n",
        "        print(\"Mean and Standard Deviation for :\", params)\n",
        "        print('{}, (+/-{}) for {}'.format(round(mean, 3), round(std * 2, 3), params))\n",
        "        print(\"-------------------------------------------\")"
      ],
      "execution_count": null,
      "outputs": []
    },
    {
      "cell_type": "code",
      "metadata": {
        "id": "D1iqnaP5lMHY",
        "colab": {
          "base_uri": "https://localhost:8080/"
        },
        "outputId": "39c1f068-a980-46af-a31c-89e91c895c81"
      },
      "source": [
        "# Conduct search for best params while running cross-validation (GridSearchCV)\n",
        "from sklearn.model_selection import GridSearchCV\n",
        "from sklearn.neighbors import KNeighborsClassifier\n",
        "kn1 = KNeighborsClassifier()\n",
        "parameters = {\n",
        "    'n_neighbors': [3,4,5]\n",
        "    }\n",
        "cv = GridSearchCV(kn1, parameters, cv=5)\n",
        "cv.fit(X_train, y_train)\n",
        "\n",
        "print_results(cv)\n",
        "# according to this, best k value = 4\n",
        "# accuracy = 0.8"
      ],
      "execution_count": null,
      "outputs": [
        {
          "output_type": "stream",
          "text": [
            "Mean and Standard Deviation for : {'n_neighbors': 3}\n",
            "0.817, (+/-0.018) for {'n_neighbors': 3}\n",
            "-------------------------------------------\n",
            "Mean and Standard Deviation for : {'n_neighbors': 4}\n",
            "0.831, (+/-0.011) for {'n_neighbors': 4}\n",
            "-------------------------------------------\n",
            "Mean and Standard Deviation for : {'n_neighbors': 5}\n",
            "0.825, (+/-0.017) for {'n_neighbors': 5}\n",
            "-------------------------------------------\n"
          ],
          "name": "stdout"
        }
      ]
    },
    {
      "cell_type": "markdown",
      "metadata": {
        "id": "sAYihKII_kz5"
      },
      "source": [
        "### Naive Bayes"
      ]
    },
    {
      "cell_type": "code",
      "metadata": {
        "id": "zM2QzPaOlO0u",
        "colab": {
          "base_uri": "https://localhost:8080/"
        },
        "outputId": "e3073609-63f8-48f0-d744-ea482b9c9831"
      },
      "source": [
        "  from sklearn.naive_bayes import GaussianNB\n",
        "  nb=GaussianNB()\n",
        "  nb.fit(X_train,y_train)\n",
        "  \n",
        "  nb_y_pred = nb.predict(X_test)\n",
        "  \n",
        "  from sklearn.metrics import confusion_matrix,accuracy_score\n",
        "  cm=confusion_matrix(y_test,nb_y_pred)\n",
        "  print(' \\n The confusion matrix for Naive Bayes is = ','\\n')\n",
        "  print(cm)\n",
        "  print(' \\n The accuracy score for Naive Bayes is = ','\\n')\n",
        "  print(accuracy_score(y_test,nb_y_pred))\n",
        "  acc_nb=accuracy_score(y_test,nb_y_pred)  \n",
        "  result.append(acc_nb)"
      ],
      "execution_count": null,
      "outputs": [
        {
          "output_type": "stream",
          "text": [
            " \n",
            " The confusion matrix for Naive Bayes is =  \n",
            "\n",
            "[[2767  481]\n",
            " [ 292  354]]\n",
            " \n",
            " The accuracy score for Naive Bayes is =  \n",
            "\n",
            "0.8014894709809964\n"
          ],
          "name": "stdout"
        }
      ]
    },
    {
      "cell_type": "markdown",
      "metadata": {
        "id": "mpLM9PBc_zfQ"
      },
      "source": [
        "### Decision Tree Classifier"
      ]
    },
    {
      "cell_type": "markdown",
      "metadata": {
        "id": "4b8Fp2N7_4pI"
      },
      "source": [
        "#### CART: Uses gini index as criteria"
      ]
    },
    {
      "cell_type": "code",
      "metadata": {
        "id": "zcdKP8tKHVIG",
        "colab": {
          "base_uri": "https://localhost:8080/"
        },
        "outputId": "ef5e77c9-8823-4ab8-b7a3-f12cb8df9ee2"
      },
      "source": [
        "from sklearn.tree import DecisionTreeClassifier\n",
        "\n",
        "cart=DecisionTreeClassifier(criterion='gini',random_state=0)\n",
        "cart.fit(X_train,y_train)"
      ],
      "execution_count": null,
      "outputs": [
        {
          "output_type": "execute_result",
          "data": {
            "text/plain": [
              "DecisionTreeClassifier(ccp_alpha=0.0, class_weight=None, criterion='gini',\n",
              "                       max_depth=None, max_features=None, max_leaf_nodes=None,\n",
              "                       min_impurity_decrease=0.0, min_impurity_split=None,\n",
              "                       min_samples_leaf=1, min_samples_split=2,\n",
              "                       min_weight_fraction_leaf=0.0, presort='deprecated',\n",
              "                       random_state=0, splitter='best')"
            ]
          },
          "metadata": {
            "tags": []
          },
          "execution_count": 59
        }
      ]
    },
    {
      "cell_type": "code",
      "metadata": {
        "id": "69MUfh01HVII",
        "colab": {
          "base_uri": "https://localhost:8080/"
        },
        "outputId": "7979da97-8e51-4a37-8ed8-4d856f7f8774"
      },
      "source": [
        "cart_y_pred=cart.predict(X_test)\n",
        "\n",
        "from sklearn.metrics import confusion_matrix,accuracy_score\n",
        "cm=confusion_matrix(y_test,cart_y_pred)\n",
        "print(' \\n The confusion matrix for CART is = ','\\n')\n",
        "print(cm)\n",
        "\n",
        "print(' \\n The accuracy score for CART is = ','\\n')\n",
        "print(accuracy_score(y_test,cart_y_pred))\n",
        "acc_cart=accuracy_score(y_test,cart_y_pred)  \n",
        "result.append(acc_cart)"
      ],
      "execution_count": null,
      "outputs": [
        {
          "output_type": "stream",
          "text": [
            " \n",
            " The confusion matrix for CART is =  \n",
            "\n",
            "[[2759  489]\n",
            " [ 403  243]]\n",
            " \n",
            " The accuracy score for CART is =  \n",
            "\n",
            "0.770929635336415\n"
          ],
          "name": "stdout"
        }
      ]
    },
    {
      "cell_type": "markdown",
      "metadata": {
        "id": "SZMTCUY_AuXp"
      },
      "source": [
        "#### C 5.0: Uses Entropy as Criteria"
      ]
    },
    {
      "cell_type": "code",
      "metadata": {
        "id": "KIYipkq9l_lP",
        "colab": {
          "base_uri": "https://localhost:8080/"
        },
        "outputId": "4f554a36-0b3b-49c0-bb15-179ef0a35f57"
      },
      "source": [
        "from sklearn.tree import DecisionTreeClassifier\n",
        "\n",
        "c5=DecisionTreeClassifier(criterion='entropy',random_state=0)\n",
        "c5.fit(X_train,y_train)"
      ],
      "execution_count": null,
      "outputs": [
        {
          "output_type": "execute_result",
          "data": {
            "text/plain": [
              "DecisionTreeClassifier(ccp_alpha=0.0, class_weight=None, criterion='entropy',\n",
              "                       max_depth=None, max_features=None, max_leaf_nodes=None,\n",
              "                       min_impurity_decrease=0.0, min_impurity_split=None,\n",
              "                       min_samples_leaf=1, min_samples_split=2,\n",
              "                       min_weight_fraction_leaf=0.0, presort='deprecated',\n",
              "                       random_state=0, splitter='best')"
            ]
          },
          "metadata": {
            "tags": []
          },
          "execution_count": 61
        }
      ]
    },
    {
      "cell_type": "code",
      "metadata": {
        "id": "NOpJW30amDQI",
        "colab": {
          "base_uri": "https://localhost:8080/"
        },
        "outputId": "b1347276-22a3-4c75-d520-3a83ea7b1ba4"
      },
      "source": [
        "c5_y_pred=c5.predict(X_test)\n",
        "\n",
        "from sklearn.metrics import confusion_matrix,accuracy_score\n",
        "cm=confusion_matrix(y_test,c5_y_pred)\n",
        "print(cm)\n",
        "print(' \\n The confusion matrix for C5.0 is = ','\\n')\n",
        "\n",
        "print(' \\n The accuracy score for C5.0 is = ','\\n')\n",
        "print(accuracy_score(y_test,c5_y_pred))\n",
        "acc_c5=accuracy_score(y_test,c5_y_pred)  \n",
        "result.append(acc_c5)"
      ],
      "execution_count": null,
      "outputs": [
        {
          "output_type": "stream",
          "text": [
            "[[2824  424]\n",
            " [ 395  251]]\n",
            " \n",
            " The confusion matrix for C5.0 is =  \n",
            "\n",
            " \n",
            " The accuracy score for C5.0 is =  \n",
            "\n",
            "0.7896764252696457\n"
          ],
          "name": "stdout"
        }
      ]
    },
    {
      "cell_type": "markdown",
      "metadata": {
        "id": "qu9ipSQiBQXR"
      },
      "source": [
        "### Random forest Classifier"
      ]
    },
    {
      "cell_type": "code",
      "metadata": {
        "id": "CSIvCbwoMUVa",
        "colab": {
          "base_uri": "https://localhost:8080/"
        },
        "outputId": "77e990c2-1909-4d81-8386-aa93f53e4352"
      },
      "source": [
        "# Modelling Random Forest\n",
        "\n",
        "from sklearn.ensemble import RandomForestClassifier\n",
        "rf=RandomForestClassifier(n_estimators=100,criterion='entropy',random_state=0)\n",
        "rf.fit(X_train,y_train)\n",
        "rf_y_pred = rf.predict(X_test)\n",
        "  \n",
        "from sklearn.metrics import confusion_matrix,accuracy_score\n",
        "cm=confusion_matrix(y_test,rf_y_pred)\n",
        "print(' \\n The confusion matrix for 100 no. of trees = ','\\n')\n",
        "print(cm)\n",
        "print(' \\n The accuracy score for 100 no. of trees = ','\\n')\n",
        "print(accuracy_score(y_test,rf_y_pred))\n",
        "acc_rf=accuracy_score(y_test,rf_y_pred)  \n",
        "result.append(acc_rf)"
      ],
      "execution_count": null,
      "outputs": [
        {
          "output_type": "stream",
          "text": [
            " \n",
            " The confusion matrix for 100 no. of trees =  \n",
            "\n",
            "[[3068  180]\n",
            " [ 418  228]]\n",
            " \n",
            " The accuracy score for 100 no. of trees =  \n",
            "\n",
            "0.8464304057524397\n"
          ],
          "name": "stdout"
        }
      ]
    },
    {
      "cell_type": "markdown",
      "metadata": {
        "id": "gE9Nh7XYB9VM"
      },
      "source": [
        "#### A function to get best parameters for Random Forest"
      ]
    },
    {
      "cell_type": "code",
      "metadata": {
        "id": "ycWhgiUsNAmj"
      },
      "source": [
        "def print_results(results):\n",
        "    print('BEST PARAMS: {}\\n'.format(results.best_params_))\n",
        "\n",
        "    means = results.cv_results_['mean_test_score']\n",
        "    stds = results.cv_results_['std_test_score']\n",
        "    for mean, std, params in zip(means, stds, results.cv_results_['params']):\n",
        "        print('{} (+/-{}) for {}'.format(round(mean, 3), round(std * 2, 3), params))"
      ],
      "execution_count": null,
      "outputs": []
    },
    {
      "cell_type": "code",
      "metadata": {
        "id": "vbcY4IwNNBVK",
        "colab": {
          "base_uri": "https://localhost:8080/"
        },
        "outputId": "8029492a-a005-41e1-b64a-277c39b9d7b2"
      },
      "source": [
        "# Conduct search for best params while running cross-validation (GridSearchCV)\n",
        "\n",
        "from sklearn.model_selection import GridSearchCV\n",
        "from sklearn.ensemble import RandomForestClassifier\n",
        "\n",
        "rf1 = RandomForestClassifier()\n",
        "parameters = {\n",
        "    'n_estimators': [50,100,150,200,250],\n",
        "    'criterion':['entropy','gini']\n",
        "    \n",
        "}\n",
        "cv = GridSearchCV(rf1, parameters, cv=5)\n",
        "cv.fit(X_train, y_train)\n",
        "\n",
        "print_results(cv)"
      ],
      "execution_count": null,
      "outputs": [
        {
          "output_type": "stream",
          "text": [
            "BEST PARAMS: {'criterion': 'gini', 'n_estimators': 50}\n",
            "\n",
            "0.838 (+/-0.007) for {'criterion': 'entropy', 'n_estimators': 50}\n",
            "0.838 (+/-0.01) for {'criterion': 'entropy', 'n_estimators': 100}\n",
            "0.839 (+/-0.005) for {'criterion': 'entropy', 'n_estimators': 150}\n",
            "0.838 (+/-0.006) for {'criterion': 'entropy', 'n_estimators': 200}\n",
            "0.838 (+/-0.004) for {'criterion': 'entropy', 'n_estimators': 250}\n",
            "0.84 (+/-0.008) for {'criterion': 'gini', 'n_estimators': 50}\n",
            "0.837 (+/-0.007) for {'criterion': 'gini', 'n_estimators': 100}\n",
            "0.837 (+/-0.006) for {'criterion': 'gini', 'n_estimators': 150}\n",
            "0.838 (+/-0.003) for {'criterion': 'gini', 'n_estimators': 200}\n",
            "0.839 (+/-0.004) for {'criterion': 'gini', 'n_estimators': 250}\n"
          ],
          "name": "stdout"
        }
      ]
    },
    {
      "cell_type": "markdown",
      "metadata": {
        "id": "ggDhwIzdHAlO"
      },
      "source": [
        "### ANN"
      ]
    },
    {
      "cell_type": "markdown",
      "metadata": {
        "id": "ZouwVmbhHHR_"
      },
      "source": [
        "#### Initializing Neural Network"
      ]
    },
    {
      "cell_type": "code",
      "metadata": {
        "id": "3dtrScHxXQox"
      },
      "source": [
        "# Initializing the ANN\n",
        "ann = tf.keras.models.Sequential()\n",
        "\n",
        "# Adding the input layer and the first hidden layer\n",
        "ann.add(tf.keras.layers.Dense(units=12, activation='relu'))\n",
        "\n",
        "### Adding the second hidden layer\n",
        "ann.add(tf.keras.layers.Dense(units=12, activation='relu'))\n",
        "\n",
        "### Adding the output layer\n",
        "ann.add(tf.keras.layers.Dense(units=1, activation='sigmoid'))"
      ],
      "execution_count": null,
      "outputs": []
    },
    {
      "cell_type": "markdown",
      "metadata": {
        "id": "8GWlJChhY_ZI"
      },
      "source": [
        "#### Compiling the ANN"
      ]
    },
    {
      "cell_type": "code",
      "metadata": {
        "id": "fG3RrwDXZEaS"
      },
      "source": [
        "ann.compile(optimizer = 'adam', loss = 'binary_crossentropy', metrics = ['accuracy'])"
      ],
      "execution_count": null,
      "outputs": []
    },
    {
      "cell_type": "markdown",
      "metadata": {
        "id": "0QR_G5u7ZLSM"
      },
      "source": [
        "#### Training the ANN on the Training set"
      ]
    },
    {
      "cell_type": "code",
      "metadata": {
        "colab": {
          "base_uri": "https://localhost:8080/"
        },
        "id": "nHZ-LKv_ZRb3",
        "outputId": "a7b7d8a7-1760-488c-deca-7a0bd72700dd"
      },
      "source": [
        "ann.fit(X_train, y_train, batch_size =32 , epochs = 100)"
      ],
      "execution_count": null,
      "outputs": [
        {
          "output_type": "stream",
          "text": [
            "Epoch 1/100\n",
            "284/284 [==============================] - 1s 1ms/step - loss: 0.6140 - accuracy: 0.6492\n",
            "Epoch 2/100\n",
            "284/284 [==============================] - 0s 1ms/step - loss: 0.4049 - accuracy: 0.8262\n",
            "Epoch 3/100\n",
            "284/284 [==============================] - 0s 1ms/step - loss: 0.3941 - accuracy: 0.8378\n",
            "Epoch 4/100\n",
            "284/284 [==============================] - 0s 1ms/step - loss: 0.3931 - accuracy: 0.8425\n",
            "Epoch 5/100\n",
            "284/284 [==============================] - 0s 1ms/step - loss: 0.3763 - accuracy: 0.8469\n",
            "Epoch 6/100\n",
            "284/284 [==============================] - 0s 1ms/step - loss: 0.3827 - accuracy: 0.8445\n",
            "Epoch 7/100\n",
            "284/284 [==============================] - 0s 1ms/step - loss: 0.3908 - accuracy: 0.8424\n",
            "Epoch 8/100\n",
            "284/284 [==============================] - 0s 1ms/step - loss: 0.3820 - accuracy: 0.8429\n",
            "Epoch 9/100\n",
            "284/284 [==============================] - 0s 1ms/step - loss: 0.3779 - accuracy: 0.8490\n",
            "Epoch 10/100\n",
            "284/284 [==============================] - 0s 1ms/step - loss: 0.3802 - accuracy: 0.8462\n",
            "Epoch 11/100\n",
            "284/284 [==============================] - 0s 1ms/step - loss: 0.3828 - accuracy: 0.8473\n",
            "Epoch 12/100\n",
            "284/284 [==============================] - 0s 1ms/step - loss: 0.3730 - accuracy: 0.8517\n",
            "Epoch 13/100\n",
            "284/284 [==============================] - 0s 1ms/step - loss: 0.3789 - accuracy: 0.8438\n",
            "Epoch 14/100\n",
            "284/284 [==============================] - 0s 1ms/step - loss: 0.3790 - accuracy: 0.8441\n",
            "Epoch 15/100\n",
            "284/284 [==============================] - 0s 1ms/step - loss: 0.3617 - accuracy: 0.8560\n",
            "Epoch 16/100\n",
            "284/284 [==============================] - 0s 1ms/step - loss: 0.3677 - accuracy: 0.8523\n",
            "Epoch 17/100\n",
            "284/284 [==============================] - 0s 1ms/step - loss: 0.3595 - accuracy: 0.8533\n",
            "Epoch 18/100\n",
            "284/284 [==============================] - 0s 1ms/step - loss: 0.3691 - accuracy: 0.8492\n",
            "Epoch 19/100\n",
            "284/284 [==============================] - 0s 1ms/step - loss: 0.3666 - accuracy: 0.8538\n",
            "Epoch 20/100\n",
            "284/284 [==============================] - 0s 1ms/step - loss: 0.3661 - accuracy: 0.8502\n",
            "Epoch 21/100\n",
            "284/284 [==============================] - 0s 1ms/step - loss: 0.3723 - accuracy: 0.8506\n",
            "Epoch 22/100\n",
            "284/284 [==============================] - 0s 1ms/step - loss: 0.3609 - accuracy: 0.8542\n",
            "Epoch 23/100\n",
            "284/284 [==============================] - 0s 1ms/step - loss: 0.3707 - accuracy: 0.8464\n",
            "Epoch 24/100\n",
            "284/284 [==============================] - 0s 1ms/step - loss: 0.3651 - accuracy: 0.8490\n",
            "Epoch 25/100\n",
            "284/284 [==============================] - 0s 1ms/step - loss: 0.3650 - accuracy: 0.8502\n",
            "Epoch 26/100\n",
            "284/284 [==============================] - 0s 1ms/step - loss: 0.3627 - accuracy: 0.8549\n",
            "Epoch 27/100\n",
            "284/284 [==============================] - 0s 1ms/step - loss: 0.3640 - accuracy: 0.8556\n",
            "Epoch 28/100\n",
            "284/284 [==============================] - 0s 1ms/step - loss: 0.3585 - accuracy: 0.8568\n",
            "Epoch 29/100\n",
            "284/284 [==============================] - 0s 1ms/step - loss: 0.3697 - accuracy: 0.8489\n",
            "Epoch 30/100\n",
            "284/284 [==============================] - 0s 1ms/step - loss: 0.3639 - accuracy: 0.8509\n",
            "Epoch 31/100\n",
            "284/284 [==============================] - 0s 1ms/step - loss: 0.3560 - accuracy: 0.8593\n",
            "Epoch 32/100\n",
            "284/284 [==============================] - 0s 1ms/step - loss: 0.3654 - accuracy: 0.8488\n",
            "Epoch 33/100\n",
            "284/284 [==============================] - 0s 1ms/step - loss: 0.3487 - accuracy: 0.8598\n",
            "Epoch 34/100\n",
            "284/284 [==============================] - 0s 1ms/step - loss: 0.3577 - accuracy: 0.8569\n",
            "Epoch 35/100\n",
            "284/284 [==============================] - 0s 1ms/step - loss: 0.3596 - accuracy: 0.8592\n",
            "Epoch 36/100\n",
            "284/284 [==============================] - 0s 1ms/step - loss: 0.3630 - accuracy: 0.8564\n",
            "Epoch 37/100\n",
            "284/284 [==============================] - 0s 1ms/step - loss: 0.3672 - accuracy: 0.8506\n",
            "Epoch 38/100\n",
            "284/284 [==============================] - 0s 1ms/step - loss: 0.3620 - accuracy: 0.8546\n",
            "Epoch 39/100\n",
            "284/284 [==============================] - 0s 1ms/step - loss: 0.3541 - accuracy: 0.8605\n",
            "Epoch 40/100\n",
            "284/284 [==============================] - 0s 1ms/step - loss: 0.3602 - accuracy: 0.8512\n",
            "Epoch 41/100\n",
            "284/284 [==============================] - 0s 1ms/step - loss: 0.3765 - accuracy: 0.8496\n",
            "Epoch 42/100\n",
            "284/284 [==============================] - 0s 1ms/step - loss: 0.3552 - accuracy: 0.8583\n",
            "Epoch 43/100\n",
            "284/284 [==============================] - 0s 1ms/step - loss: 0.3699 - accuracy: 0.8494\n",
            "Epoch 44/100\n",
            "284/284 [==============================] - 0s 1ms/step - loss: 0.3560 - accuracy: 0.8546\n",
            "Epoch 45/100\n",
            "284/284 [==============================] - 0s 1ms/step - loss: 0.3744 - accuracy: 0.8470\n",
            "Epoch 46/100\n",
            "284/284 [==============================] - 0s 1ms/step - loss: 0.3559 - accuracy: 0.8552\n",
            "Epoch 47/100\n",
            "284/284 [==============================] - 0s 1ms/step - loss: 0.3728 - accuracy: 0.8497\n",
            "Epoch 48/100\n",
            "284/284 [==============================] - 0s 1ms/step - loss: 0.3705 - accuracy: 0.8491\n",
            "Epoch 49/100\n",
            "284/284 [==============================] - 0s 1ms/step - loss: 0.3593 - accuracy: 0.8523\n",
            "Epoch 50/100\n",
            "284/284 [==============================] - 0s 1ms/step - loss: 0.3530 - accuracy: 0.8609\n",
            "Epoch 51/100\n",
            "284/284 [==============================] - 0s 1ms/step - loss: 0.3627 - accuracy: 0.8496\n",
            "Epoch 52/100\n",
            "284/284 [==============================] - 0s 1ms/step - loss: 0.3578 - accuracy: 0.8559\n",
            "Epoch 53/100\n",
            "284/284 [==============================] - 0s 1ms/step - loss: 0.3554 - accuracy: 0.8575\n",
            "Epoch 54/100\n",
            "284/284 [==============================] - 0s 1ms/step - loss: 0.3484 - accuracy: 0.8629\n",
            "Epoch 55/100\n",
            "284/284 [==============================] - 0s 1ms/step - loss: 0.3634 - accuracy: 0.8512\n",
            "Epoch 56/100\n",
            "284/284 [==============================] - 0s 1ms/step - loss: 0.3645 - accuracy: 0.8526\n",
            "Epoch 57/100\n",
            "284/284 [==============================] - 0s 1ms/step - loss: 0.3626 - accuracy: 0.8531\n",
            "Epoch 58/100\n",
            "284/284 [==============================] - 0s 1ms/step - loss: 0.3583 - accuracy: 0.8542\n",
            "Epoch 59/100\n",
            "284/284 [==============================] - 0s 1ms/step - loss: 0.3669 - accuracy: 0.8508\n",
            "Epoch 60/100\n",
            "284/284 [==============================] - 0s 1ms/step - loss: 0.3700 - accuracy: 0.8506\n",
            "Epoch 61/100\n",
            "284/284 [==============================] - 0s 1ms/step - loss: 0.3581 - accuracy: 0.8589\n",
            "Epoch 62/100\n",
            "284/284 [==============================] - 0s 1ms/step - loss: 0.3616 - accuracy: 0.8531\n",
            "Epoch 63/100\n",
            "284/284 [==============================] - 0s 1ms/step - loss: 0.3567 - accuracy: 0.8547\n",
            "Epoch 64/100\n",
            "284/284 [==============================] - 0s 1ms/step - loss: 0.3590 - accuracy: 0.8528\n",
            "Epoch 65/100\n",
            "284/284 [==============================] - 0s 1ms/step - loss: 0.3464 - accuracy: 0.8610\n",
            "Epoch 66/100\n",
            "284/284 [==============================] - 0s 1ms/step - loss: 0.3554 - accuracy: 0.8559\n",
            "Epoch 67/100\n",
            "284/284 [==============================] - 0s 1ms/step - loss: 0.3705 - accuracy: 0.8478\n",
            "Epoch 68/100\n",
            "284/284 [==============================] - 0s 1ms/step - loss: 0.3609 - accuracy: 0.8537\n",
            "Epoch 69/100\n",
            "284/284 [==============================] - 0s 1ms/step - loss: 0.3667 - accuracy: 0.8530\n",
            "Epoch 70/100\n",
            "284/284 [==============================] - 0s 1ms/step - loss: 0.3650 - accuracy: 0.8558\n",
            "Epoch 71/100\n",
            "284/284 [==============================] - 0s 1ms/step - loss: 0.3749 - accuracy: 0.8488\n",
            "Epoch 72/100\n",
            "284/284 [==============================] - 0s 1ms/step - loss: 0.3582 - accuracy: 0.8583\n",
            "Epoch 73/100\n",
            "284/284 [==============================] - 0s 1ms/step - loss: 0.3499 - accuracy: 0.8628\n",
            "Epoch 74/100\n",
            "284/284 [==============================] - 0s 1ms/step - loss: 0.3629 - accuracy: 0.8517\n",
            "Epoch 75/100\n",
            "284/284 [==============================] - 0s 1ms/step - loss: 0.3673 - accuracy: 0.8488\n",
            "Epoch 76/100\n",
            "284/284 [==============================] - 0s 1ms/step - loss: 0.3644 - accuracy: 0.8515\n",
            "Epoch 77/100\n",
            "284/284 [==============================] - 0s 1ms/step - loss: 0.3568 - accuracy: 0.8560\n",
            "Epoch 78/100\n",
            "284/284 [==============================] - 0s 1ms/step - loss: 0.3397 - accuracy: 0.8647\n",
            "Epoch 79/100\n",
            "284/284 [==============================] - 0s 1ms/step - loss: 0.3574 - accuracy: 0.8597\n",
            "Epoch 80/100\n",
            "284/284 [==============================] - 0s 1ms/step - loss: 0.3506 - accuracy: 0.8600\n",
            "Epoch 81/100\n",
            "284/284 [==============================] - 0s 1ms/step - loss: 0.3589 - accuracy: 0.8556\n",
            "Epoch 82/100\n",
            "284/284 [==============================] - 0s 1ms/step - loss: 0.3689 - accuracy: 0.8442\n",
            "Epoch 83/100\n",
            "284/284 [==============================] - 0s 1ms/step - loss: 0.3571 - accuracy: 0.8556\n",
            "Epoch 84/100\n",
            "284/284 [==============================] - 0s 1ms/step - loss: 0.3666 - accuracy: 0.8468\n",
            "Epoch 85/100\n",
            "284/284 [==============================] - 0s 1ms/step - loss: 0.3588 - accuracy: 0.8538\n",
            "Epoch 86/100\n",
            "284/284 [==============================] - 0s 1ms/step - loss: 0.3618 - accuracy: 0.8537\n",
            "Epoch 87/100\n",
            "284/284 [==============================] - 0s 1ms/step - loss: 0.3571 - accuracy: 0.8559\n",
            "Epoch 88/100\n",
            "284/284 [==============================] - 0s 1ms/step - loss: 0.3533 - accuracy: 0.8556\n",
            "Epoch 89/100\n",
            "284/284 [==============================] - 0s 1ms/step - loss: 0.3609 - accuracy: 0.8547\n",
            "Epoch 90/100\n",
            "284/284 [==============================] - 0s 1ms/step - loss: 0.3599 - accuracy: 0.8546\n",
            "Epoch 91/100\n",
            "284/284 [==============================] - 0s 1ms/step - loss: 0.3600 - accuracy: 0.8546\n",
            "Epoch 92/100\n",
            "284/284 [==============================] - 0s 1ms/step - loss: 0.3534 - accuracy: 0.8556\n",
            "Epoch 93/100\n",
            "284/284 [==============================] - 0s 1ms/step - loss: 0.3505 - accuracy: 0.8550\n",
            "Epoch 94/100\n",
            "284/284 [==============================] - 0s 1ms/step - loss: 0.3500 - accuracy: 0.8599\n",
            "Epoch 95/100\n",
            "284/284 [==============================] - 0s 1ms/step - loss: 0.3600 - accuracy: 0.8510\n",
            "Epoch 96/100\n",
            "284/284 [==============================] - 0s 1ms/step - loss: 0.3563 - accuracy: 0.8543\n",
            "Epoch 97/100\n",
            "284/284 [==============================] - 0s 1ms/step - loss: 0.3520 - accuracy: 0.8551\n",
            "Epoch 98/100\n",
            "284/284 [==============================] - 0s 1ms/step - loss: 0.3556 - accuracy: 0.8536\n",
            "Epoch 99/100\n",
            "284/284 [==============================] - 0s 1ms/step - loss: 0.3626 - accuracy: 0.8516\n",
            "Epoch 100/100\n",
            "284/284 [==============================] - 0s 2ms/step - loss: 0.3567 - accuracy: 0.8539\n"
          ],
          "name": "stdout"
        },
        {
          "output_type": "execute_result",
          "data": {
            "text/plain": [
              "<tensorflow.python.keras.callbacks.History at 0x7fb735ad75d0>"
            ]
          },
          "metadata": {
            "tags": []
          },
          "execution_count": 68
        }
      ]
    },
    {
      "cell_type": "markdown",
      "metadata": {
        "id": "tJj5k2MxZga3"
      },
      "source": [
        "#### Making predictions and evaluating the model"
      ]
    },
    {
      "cell_type": "code",
      "metadata": {
        "colab": {
          "base_uri": "https://localhost:8080/"
        },
        "id": "nIyEeQdRZwgs",
        "outputId": "396b7f33-d690-4f13-fca0-7159a2443a95"
      },
      "source": [
        "ann_y_pred = ann.predict(X_test)\n",
        "ann_y_pred = (ann_y_pred > 0.5)\n",
        "\n",
        "from sklearn.metrics import confusion_matrix\n",
        "cm = confusion_matrix(y_test, ann_y_pred)\n",
        "print(' \\n The confusion Matrix for ANN ','\\n')\n",
        "print(cm)\n",
        "\n",
        "from sklearn.metrics import accuracy_score\n",
        "print(' \\n The accuracy score for ANN ','\\n')\n",
        "print(accuracy_score(y_test,ann_y_pred))\n",
        "\n",
        "acc_ann=accuracy_score(y_test,ann_y_pred)  \n",
        "result.append(acc_ann)"
      ],
      "execution_count": null,
      "outputs": [
        {
          "output_type": "stream",
          "text": [
            " \n",
            " The confusion Matrix for ANN  \n",
            "\n",
            "[[3018  230]\n",
            " [ 366  280]]\n",
            " \n",
            " The accuracy score for ANN  \n",
            "\n",
            "0.8469440164355418\n"
          ],
          "name": "stdout"
        }
      ]
    },
    {
      "cell_type": "markdown",
      "metadata": {
        "id": "YXpsmrK_Oe3s"
      },
      "source": [
        "## AUC/ROC curve"
      ]
    },
    {
      "cell_type": "code",
      "metadata": {
        "colab": {
          "base_uri": "https://localhost:8080/",
          "height": 641
        },
        "id": "vW2OjuqCKePm",
        "outputId": "5be03ede-3075-4d7e-d836-963ffd78913f"
      },
      "source": [
        "########Comparision of models using roc_curve\n",
        "\n",
        "from sklearn.metrics import roc_curve, auc\n",
        "from matplotlib import pyplot\n",
        "from matplotlib.pyplot import figure\n",
        "\n",
        "result1=[]\n",
        "\n",
        "figure(num=None, figsize=(14, 7), dpi=80, facecolor='w', edgecolor='k')\n",
        "\n",
        "knn_fpr, knn_tpr, _ = roc_curve(y_test, knn_y_pred)\n",
        "nb_fpr, nb_tpr, _ = roc_curve(y_test, nb_y_pred)\n",
        "cart_fpr, cart_tpr, _ = roc_curve(y_test, cart_y_pred)\n",
        "c5_fpr, c5_tpr, _ = roc_curve(y_test, c5_y_pred)\n",
        "rf_fpr, rf_tpr, _ = roc_curve(y_test, rf_y_pred)\n",
        "ann_fpr, ann_tpr, _ = roc_curve(y_test, ann_y_pred)\n",
        "\n",
        "# Printing values for AUC\n",
        "\n",
        "print(\"AUC Value for 'K Neighbors Classifier' = \",auc(knn_fpr, knn_tpr))\n",
        "k=auc(knn_fpr, knn_tpr)\n",
        "result1.append(k)\n",
        "print(\"AUC Value for 'Naive Bayes' = \",auc(nb_fpr, nb_tpr))\n",
        "n=auc(nb_fpr, nb_tpr)\n",
        "result1.append(n)\n",
        "print(\"AUC Value for 'Decision Tree_CART' = \",auc(cart_fpr, cart_tpr))\n",
        "c=auc(cart_fpr, cart_tpr)\n",
        "result1.append(c)\n",
        "print(\"AUC Value for 'Decision Tree_C5.0' = \",auc(c5_fpr, c5_tpr))\n",
        "c1=auc(c5_fpr, c5_tpr)\n",
        "result1.append(c1)\n",
        "print(\"AUC Value for 'Random Forest' = \",auc(rf_fpr, rf_tpr))\n",
        "r=auc(rf_fpr, rf_tpr)\n",
        "result1.append(r)\n",
        "print(\"AUC Value for 'Artificial Neural Network' = \",auc(ann_fpr, ann_tpr))\n",
        "a=auc(ann_fpr, ann_tpr)\n",
        "result1.append(a)\n",
        "\n",
        "# plot the roc curve for the model\n",
        "pyplot.plot(knn_fpr, knn_tpr, marker='s', label='K Neighbors Classifier')\n",
        "pyplot.plot(nb_fpr, nb_tpr, linestyle='--', label='Naive Bayes')\n",
        "pyplot.plot(cart_fpr, cart_tpr, marker='o', label='Decision Tree_CART')\n",
        "pyplot.plot(c5_fpr, c5_tpr, marker='v', label='Decision Tree_C5.0')\n",
        "pyplot.plot(rf_fpr, rf_tpr, linestyle=':', label='Random Forest')\n",
        "pyplot.plot(ann_fpr, ann_tpr, linestyle='-', label='Artificial Neural Network')\n",
        "\n",
        "\n",
        "# axis labels\n",
        "\n",
        "# incorrectly predicts the positive class\n",
        "pyplot.xlabel('False Positive Rate')\n",
        "\n",
        "# correctly predicts the positive class\n",
        "pyplot.ylabel('True Positive Rate')\n",
        "\n",
        "pyplot.title(\"Comparision of models using roc_curve\", fontsize=30)\n",
        "\n",
        "# show the legend\n",
        "pyplot.legend()\n",
        "# show the plot\n",
        "pyplot.show()"
      ],
      "execution_count": null,
      "outputs": [
        {
          "output_type": "stream",
          "text": [
            "AUC Value for 'K Neighbors Classifier' =  0.620222113346246\n",
            "AUC Value for 'Naive Bayes' =  0.6999482415470726\n",
            "AUC Value for 'Decision Tree_CART' =  0.6128034017599779\n",
            "AUC Value for 'Decision Tree_C5.0' =  0.6290015098598424\n",
            "AUC Value for 'Random Forest' =  0.6487612286293828\n",
            "AUC Value for 'Artificial Neural Network' =  0.6813118623129834\n"
          ],
          "name": "stdout"
        },
        {
          "output_type": "display_data",
          "data": {
            "image/png": "[encoded data removed]",
            "text/plain": [
              "<Figure size 1120x560 with 1 Axes>"
            ]
          },
          "metadata": {
            "tags": []
          }
        }
      ]
    },
    {
      "cell_type": "code",
      "metadata": {
        "colab": {
          "base_uri": "https://localhost:8080/",
          "height": 252
        },
        "id": "vVVOEnJjaUra",
        "outputId": "e871f6ce-bf01-41fd-8694-5d20a0ae6715"
      },
      "source": [
        "results = pd.DataFrame({ \"Models\":[\"KNN\",\n",
        "                                  \"Naive Bayes\",\n",
        "                                  \"CART\",\n",
        "                                  \"C5.0\",\n",
        "                                  \"RandomForest\",\n",
        "                                  \"ANN\"\n",
        "                                  ],\n",
        "                        \"Model Accuracy\":result,\n",
        "                        \"AUC\":result1\n",
        "                        })\n",
        "results"
      ],
      "execution_count": null,
      "outputs": [
        {
          "output_type": "execute_result",
          "data": {
            "text/html": [
              "<div>\n",
              "<style scoped>\n",
              "    .dataframe tbody tr th:only-of-type {\n",
              "        vertical-align: middle;\n",
              "    }\n",
              "\n",
              "    .dataframe tbody tr th {\n",
              "        vertical-align: top;\n",
              "    }\n",
              "\n",
              "    .dataframe thead th {\n",
              "        text-align: right;\n",
              "    }\n",
              "</style>\n",
              "<table border=\"1\" class=\"dataframe\">\n",
              "  <thead>\n",
              "    <tr style=\"text-align: right;\">\n",
              "      <th></th>\n",
              "      <th>Models</th>\n",
              "      <th>Model Accuracy</th>\n",
              "      <th>AUC</th>\n",
              "    </tr>\n",
              "  </thead>\n",
              "  <tbody>\n",
              "    <tr>\n",
              "      <th>0</th>\n",
              "      <td>KNN</td>\n",
              "      <td>0.813303</td>\n",
              "      <td>0.620222</td>\n",
              "    </tr>\n",
              "    <tr>\n",
              "      <th>1</th>\n",
              "      <td>Naive Bayes</td>\n",
              "      <td>0.801489</td>\n",
              "      <td>0.699948</td>\n",
              "    </tr>\n",
              "    <tr>\n",
              "      <th>2</th>\n",
              "      <td>CART</td>\n",
              "      <td>0.770930</td>\n",
              "      <td>0.612803</td>\n",
              "    </tr>\n",
              "    <tr>\n",
              "      <th>3</th>\n",
              "      <td>C5.0</td>\n",
              "      <td>0.789676</td>\n",
              "      <td>0.629002</td>\n",
              "    </tr>\n",
              "    <tr>\n",
              "      <th>4</th>\n",
              "      <td>RandomForest</td>\n",
              "      <td>0.846430</td>\n",
              "      <td>0.648761</td>\n",
              "    </tr>\n",
              "    <tr>\n",
              "      <th>5</th>\n",
              "      <td>ANN</td>\n",
              "      <td>0.846944</td>\n",
              "      <td>0.681312</td>\n",
              "    </tr>\n",
              "  </tbody>\n",
              "</table>\n",
              "</div>"
            ],
            "text/plain": [
              "         Models  Model Accuracy       AUC\n",
              "0           KNN        0.813303  0.620222\n",
              "1   Naive Bayes        0.801489  0.699948\n",
              "2          CART        0.770930  0.612803\n",
              "3          C5.0        0.789676  0.629002\n",
              "4  RandomForest        0.846430  0.648761\n",
              "5           ANN        0.846944  0.681312"
            ]
          },
          "metadata": {
            "tags": []
          },
          "execution_count": 71
        }
      ]
    },
    {
      "cell_type": "markdown",
      "metadata": {
        "id": "U931TKQTWITQ"
      },
      "source": [
        "# Model Building for Best 5 features"
      ]
    },
    {
      "cell_type": "code",
      "metadata": {
        "id": "_CucPH2xWMec"
      },
      "source": [
        "X1 = df1[['city_development_index','education_level','experience','last_new_job','training_hours']]\n",
        "y1 = df1['target']"
      ],
      "execution_count": null,
      "outputs": []
    },
    {
      "cell_type": "code",
      "metadata": {
        "id": "J1Ze6wsQWMef"
      },
      "source": [
        "from sklearn.model_selection import train_test_split\n",
        "X_train, X_test, y_train, y_test = train_test_split(X1, y1, test_size = 0.3, random_state = 0)"
      ],
      "execution_count": null,
      "outputs": []
    },
    {
      "cell_type": "markdown",
      "metadata": {
        "id": "biBJ6ERlZt5q"
      },
      "source": [
        "#### Rescaling of data"
      ]
    },
    {
      "cell_type": "code",
      "metadata": {
        "id": "l0_-ybYbZt5t"
      },
      "source": [
        "  from sklearn.preprocessing import StandardScaler\n",
        "  sc=StandardScaler()\n",
        "  X_train=sc.fit_transform(X_train)\n",
        "  X_test=sc.transform(X_test)"
      ],
      "execution_count": null,
      "outputs": []
    },
    {
      "cell_type": "code",
      "metadata": {
        "colab": {
          "base_uri": "https://localhost:8080/"
        },
        "id": "wjW09XBVWMej",
        "outputId": "0d9b5b0d-82cc-4661-9b92-817a0eb36942"
      },
      "source": [
        "print(X_train.shape)\n",
        "print(X_test.shape)\n",
        "print(y_train.shape)\n",
        "print(y_test.shape)"
      ],
      "execution_count": null,
      "outputs": [
        {
          "output_type": "stream",
          "text": [
            "(9083, 5)\n",
            "(3894, 5)\n",
            "(9083,)\n",
            "(3894,)\n"
          ],
          "name": "stdout"
        }
      ]
    },
    {
      "cell_type": "markdown",
      "metadata": {
        "id": "pBTIvKowXvXY"
      },
      "source": [
        "### KNN"
      ]
    },
    {
      "cell_type": "code",
      "metadata": {
        "id": "CQilYR6jmBko"
      },
      "source": [
        "result2=[]"
      ],
      "execution_count": null,
      "outputs": []
    },
    {
      "cell_type": "code",
      "metadata": {
        "colab": {
          "base_uri": "https://localhost:8080/",
          "height": 533
        },
        "id": "hwfE4FbIXvXc",
        "outputId": "a41ee153-8ca1-4465-ea6b-bfbda8b6dc1e"
      },
      "source": [
        "# To plot the Elbow Diagram\n",
        "\n",
        "from sklearn.cluster import KMeans\n",
        "distortions = []\n",
        "K = range(1,10)\n",
        "for k in K:\n",
        "    kmeanModel = KMeans(n_clusters=k)\n",
        "    kmeanModel.fit(X1)\n",
        "    distortions.append(kmeanModel.inertia_)\n",
        "\n",
        "plt.figure(figsize=(16,8))\n",
        "plt.plot(K, distortions, 'bx-')\n",
        "plt.xlabel('k')\n",
        "plt.ylabel('Distortion')\n",
        "plt.title('The Elbow Method showing the optimal k')\n",
        "plt.show()"
      ],
      "execution_count": null,
      "outputs": [
        {
          "output_type": "display_data",
          "data": {
            "image/png": "[encoded data removed]",
            "text/plain": [
              "<Figure size 1152x576 with 1 Axes>"
            ]
          },
          "metadata": {
            "tags": [],
            "needs_background": "light"
          }
        }
      ]
    },
    {
      "cell_type": "code",
      "metadata": {
        "colab": {
          "base_uri": "https://localhost:8080/"
        },
        "id": "Oqcc-J02XvXk",
        "outputId": "540e0ca3-5aab-47c5-de89-c5100644a23e"
      },
      "source": [
        "# Modelling KNN\n",
        "\n",
        "from sklearn.neighbors import KNeighborsClassifier\n",
        "kn=KNeighborsClassifier(n_neighbors=3,weights='distance',p=2)\n",
        "kn.fit(X_train,y_train)\n",
        "knn_y_pred5 = kn.predict(X_test)\n",
        "  \n",
        "from sklearn.metrics import confusion_matrix,accuracy_score\n",
        "cm=confusion_matrix(y_test,knn_y_pred5)\n",
        "print(' \\n The confusion matrix and accuracy score for n_neighbors = \\n')\n",
        "print(cm)\n",
        "print(' \\n The accuracy score for n_neighbors = ','\\n')\n",
        "print(accuracy_score(y_test,knn_y_pred5))\n",
        "acc_knn5=accuracy_score(y_test,knn_y_pred5)  \n",
        "result2.append(acc_knn5)"
      ],
      "execution_count": null,
      "outputs": [
        {
          "output_type": "stream",
          "text": [
            " \n",
            " The confusion matrix and accuracy score for n_neighbors = \n",
            "\n",
            "[[2955  293]\n",
            " [ 426  220]]\n",
            " \n",
            " The accuracy score for n_neighbors =  \n",
            "\n",
            "0.8153569594247561\n"
          ],
          "name": "stdout"
        }
      ]
    },
    {
      "cell_type": "markdown",
      "metadata": {
        "id": "T9mLPTwFXvXn"
      },
      "source": [
        "#### A function to get best parameters for KNN"
      ]
    },
    {
      "cell_type": "code",
      "metadata": {
        "id": "WewlKV3gXvXp"
      },
      "source": [
        "def print_results(results):\n",
        "    print('BEST PARAMS: {}\\n'.format(results.best_params_))\n",
        "\n",
        "    means = results.cv_results_['mean_test_score']\n",
        "    stds = results.cv_results_['std_test_score']\n",
        "    for mean, std, params in zip(means, stds, results.cv_results_['params']):\n",
        "        print('{} (+/-{}) for {}'.format(round(mean, 3), round(std * 2, 3), params))"
      ],
      "execution_count": null,
      "outputs": []
    },
    {
      "cell_type": "code",
      "metadata": {
        "colab": {
          "base_uri": "https://localhost:8080/"
        },
        "id": "0fQoR1alXvXr",
        "outputId": "b418c7e2-a4c0-4bc8-bbda-6463b11ed039"
      },
      "source": [
        "# Conduct search for best params while running cross-validation (GridSearchCV)\n",
        "from sklearn.model_selection import GridSearchCV\n",
        "from sklearn.neighbors import KNeighborsClassifier\n",
        "kn15 = KNeighborsClassifier()\n",
        "parameters = {\n",
        "    'n_neighbors': [3,4,5]\n",
        "    }\n",
        "cv = GridSearchCV(kn15, parameters, cv=5)\n",
        "cv.fit(X_train, y_train)\n",
        "\n",
        "print_results(cv)\n",
        "# according to this, best k value = 4\n",
        "# accuracy = 0.8"
      ],
      "execution_count": null,
      "outputs": [
        {
          "output_type": "stream",
          "text": [
            "BEST PARAMS: {'n_neighbors': 5}\n",
            "\n",
            "0.817 (+/-0.017) for {'n_neighbors': 3}\n",
            "0.834 (+/-0.009) for {'n_neighbors': 4}\n",
            "0.835 (+/-0.014) for {'n_neighbors': 5}\n"
          ],
          "name": "stdout"
        }
      ]
    },
    {
      "cell_type": "markdown",
      "metadata": {
        "id": "JuyJd5z6XvXv"
      },
      "source": [
        "### Naive Bayes"
      ]
    },
    {
      "cell_type": "code",
      "metadata": {
        "colab": {
          "base_uri": "https://localhost:8080/"
        },
        "id": "aiGBhPvuXvXv",
        "outputId": "6251ac6b-229c-4d71-a729-681894b07c7e"
      },
      "source": [
        "  from sklearn.naive_bayes import GaussianNB\n",
        "  nb=GaussianNB()\n",
        "  nb.fit(X_train,y_train)\n",
        "  \n",
        "  nb_y_pred5 = nb.predict(X_test)\n",
        "  \n",
        "  from sklearn.metrics import confusion_matrix,accuracy_score\n",
        "  cm=confusion_matrix(y_test,nb_y_pred5)\n",
        "  print(' \\n The confusion matrix for Naive Bayes is = ','\\n')\n",
        "  print(cm)\n",
        "  print(' \\n The accuracy score for Naive Bayes is = ','\\n')\n",
        "  print(accuracy_score(y_test,nb_y_pred5))\n",
        "  acc_nb5=accuracy_score(y_test,nb_y_pred5)  \n",
        "  result2.append(acc_nb5)"
      ],
      "execution_count": null,
      "outputs": [
        {
          "output_type": "stream",
          "text": [
            " \n",
            " The confusion matrix for Naive Bayes is =  \n",
            "\n",
            "[[2913  335]\n",
            " [ 294  352]]\n",
            " \n",
            " The accuracy score for Naive Bayes is =  \n",
            "\n",
            "0.8384694401643554\n"
          ],
          "name": "stdout"
        }
      ]
    },
    {
      "cell_type": "markdown",
      "metadata": {
        "id": "wouDMrEyXvXw"
      },
      "source": [
        "### Decision Tree Classifier"
      ]
    },
    {
      "cell_type": "markdown",
      "metadata": {
        "id": "cv8ybxcmXvXw"
      },
      "source": [
        "#### CART: Uses gini index as criteria"
      ]
    },
    {
      "cell_type": "code",
      "metadata": {
        "colab": {
          "base_uri": "https://localhost:8080/"
        },
        "id": "EyECScubXvXw",
        "outputId": "6cf8bd01-fdb0-436d-a601-68159faef92e"
      },
      "source": [
        "from sklearn.tree import DecisionTreeClassifier\n",
        "\n",
        "cart=DecisionTreeClassifier(criterion='gini',random_state=0)\n",
        "cart.fit(X_train,y_train)"
      ],
      "execution_count": null,
      "outputs": [
        {
          "output_type": "execute_result",
          "data": {
            "text/plain": [
              "DecisionTreeClassifier(ccp_alpha=0.0, class_weight=None, criterion='gini',\n",
              "                       max_depth=None, max_features=None, max_leaf_nodes=None,\n",
              "                       min_impurity_decrease=0.0, min_impurity_split=None,\n",
              "                       min_samples_leaf=1, min_samples_split=2,\n",
              "                       min_weight_fraction_leaf=0.0, presort='deprecated',\n",
              "                       random_state=0, splitter='best')"
            ]
          },
          "metadata": {
            "tags": []
          },
          "execution_count": 82
        }
      ]
    },
    {
      "cell_type": "code",
      "metadata": {
        "colab": {
          "base_uri": "https://localhost:8080/"
        },
        "id": "PSuHCm3GXvXw",
        "outputId": "a0a2a031-1d26-40b6-ea1f-e92dc7ee55e1"
      },
      "source": [
        "cart_y_pred5=cart.predict(X_test)\n",
        "\n",
        "from sklearn.metrics import confusion_matrix\n",
        "cm=confusion_matrix(y_test,cart_y_pred5)\n",
        "print(' \\n The confusion matrix for CART is = ','\\n')\n",
        "print(cm)\n",
        "print(' \\n The accuracy score for CART is = ','\\n')\n",
        "from sklearn.metrics import accuracy_score\n",
        "print(accuracy_score(y_test,cart_y_pred5))\n",
        "acc_cart5=accuracy_score(y_test,cart_y_pred5)  \n",
        "result2.append(acc_cart5)"
      ],
      "execution_count": null,
      "outputs": [
        {
          "output_type": "stream",
          "text": [
            " \n",
            " The confusion matrix for CART is =  \n",
            "\n",
            "[[2823  425]\n",
            " [ 406  240]]\n",
            " \n",
            " The accuracy score for CART is =  \n",
            "\n",
            "0.7865947611710323\n"
          ],
          "name": "stdout"
        }
      ]
    },
    {
      "cell_type": "markdown",
      "metadata": {
        "id": "gBfp85msXvXy"
      },
      "source": [
        "#### C 5.0: Uses Entropy as Criteria"
      ]
    },
    {
      "cell_type": "code",
      "metadata": {
        "colab": {
          "base_uri": "https://localhost:8080/"
        },
        "id": "15gLItaEXvXy",
        "outputId": "63d86161-63bf-48d1-d078-9b8f010415c4"
      },
      "source": [
        "from sklearn.tree import DecisionTreeClassifier\n",
        "\n",
        "c5=DecisionTreeClassifier(criterion='entropy',random_state=0)\n",
        "c5.fit(X_train,y_train)"
      ],
      "execution_count": null,
      "outputs": [
        {
          "output_type": "execute_result",
          "data": {
            "text/plain": [
              "DecisionTreeClassifier(ccp_alpha=0.0, class_weight=None, criterion='entropy',\n",
              "                       max_depth=None, max_features=None, max_leaf_nodes=None,\n",
              "                       min_impurity_decrease=0.0, min_impurity_split=None,\n",
              "                       min_samples_leaf=1, min_samples_split=2,\n",
              "                       min_weight_fraction_leaf=0.0, presort='deprecated',\n",
              "                       random_state=0, splitter='best')"
            ]
          },
          "metadata": {
            "tags": []
          },
          "execution_count": 84
        }
      ]
    },
    {
      "cell_type": "code",
      "metadata": {
        "colab": {
          "base_uri": "https://localhost:8080/"
        },
        "id": "6u2xE0RpXvXy",
        "outputId": "de0fa29e-d11c-4f65-e3e2-9b82acb23024"
      },
      "source": [
        "c5_y_pred5=c5.predict(X_test)\n",
        "\n",
        "from sklearn.metrics import confusion_matrix\n",
        "cm=confusion_matrix(y_test,c5_y_pred5)\n",
        "print(cm)\n",
        "print(' \\n The confusion matrix for C5.0 is = ','\\n')\n",
        "from sklearn.metrics import accuracy_score\n",
        "print(' \\n The accuracy score for C5.0 is = ','\\n')\n",
        "print(accuracy_score(y_test,c5_y_pred5))\n",
        "acc_c55=accuracy_score(y_test,c5_y_pred5)  \n",
        "result2.append(acc_c55)"
      ],
      "execution_count": null,
      "outputs": [
        {
          "output_type": "stream",
          "text": [
            "[[2830  418]\n",
            " [ 405  241]]\n",
            " \n",
            " The confusion matrix for C5.0 is =  \n",
            "\n",
            " \n",
            " The accuracy score for C5.0 is =  \n",
            "\n",
            "0.7886492039034412\n"
          ],
          "name": "stdout"
        }
      ]
    },
    {
      "cell_type": "markdown",
      "metadata": {
        "id": "xH5nCqLcXvXz"
      },
      "source": [
        "### Random forest Classifier"
      ]
    },
    {
      "cell_type": "code",
      "metadata": {
        "colab": {
          "base_uri": "https://localhost:8080/"
        },
        "id": "q6J7YnWLXvXz",
        "outputId": "a70a9cc9-e16e-46b0-b426-c8299532537c"
      },
      "source": [
        "# Modelling Random Forest\n",
        "\n",
        "from sklearn.ensemble import RandomForestClassifier\n",
        "rf5=RandomForestClassifier(n_estimators=100,criterion='entropy',random_state=0)\n",
        "rf5.fit(X_train,y_train)\n",
        "rf_y_pred5 = rf5.predict(X_test)\n",
        "  \n",
        "from sklearn.metrics import confusion_matrix,accuracy_score\n",
        "cm=confusion_matrix(y_test,rf_y_pred5)\n",
        "print(' \\n The confusion matrix for no. of trees = ','\\n')\n",
        "print(cm)\n",
        "print(' \\n The accuracy score for no. of trees = ','\\n')\n",
        "print(accuracy_score(y_test,rf_y_pred5))\n",
        "acc_rf5=accuracy_score(y_test,rf_y_pred5)  \n",
        "result2.append(acc_rf5)"
      ],
      "execution_count": null,
      "outputs": [
        {
          "output_type": "stream",
          "text": [
            " \n",
            " The confusion matrix for no. of trees =  \n",
            "\n",
            "[[3043  205]\n",
            " [ 418  228]]\n",
            " \n",
            " The accuracy score for no. of trees =  \n",
            "\n",
            "0.8400102722136621\n"
          ],
          "name": "stdout"
        }
      ]
    },
    {
      "cell_type": "markdown",
      "metadata": {
        "id": "x6ZfOavfXvX0"
      },
      "source": [
        "#### A function to get best parameters for Random Forest"
      ]
    },
    {
      "cell_type": "code",
      "metadata": {
        "id": "Sde3FTkhXvX1"
      },
      "source": [
        "def print_results(results):\n",
        "    print('BEST PARAMS: {}\\n'.format(results.best_params_))\n",
        "\n",
        "    means = results.cv_results_['mean_test_score']\n",
        "    stds = results.cv_results_['std_test_score']\n",
        "    for mean, std, params in zip(means, stds, results.cv_results_['params']):\n",
        "        print('{} (+/-{}) for {}'.format(round(mean, 3), round(std * 2, 3), params))"
      ],
      "execution_count": null,
      "outputs": []
    },
    {
      "cell_type": "code",
      "metadata": {
        "colab": {
          "base_uri": "https://localhost:8080/"
        },
        "id": "7QGX3UXLXvX1",
        "outputId": "c691e02c-55bc-48f7-9185-50e9434c2abf"
      },
      "source": [
        "# Conduct search for best params while running cross-validation (GridSearchCV)\n",
        "\n",
        "from sklearn.model_selection import GridSearchCV\n",
        "from sklearn.ensemble import RandomForestClassifier\n",
        "\n",
        "rf15 = RandomForestClassifier()\n",
        "parameters = {\n",
        "    'n_estimators': [50,100,150,200,250],\n",
        "    'criterion':['entropy','gini']\n",
        "    \n",
        "}\n",
        "cv = GridSearchCV(rf15, parameters, cv=5)\n",
        "cv.fit(X_train, y_train)\n",
        "\n",
        "print_results(cv)"
      ],
      "execution_count": null,
      "outputs": [
        {
          "output_type": "stream",
          "text": [
            "BEST PARAMS: {'criterion': 'entropy', 'n_estimators': 250}\n",
            "\n",
            "0.832 (+/-0.007) for {'criterion': 'entropy', 'n_estimators': 50}\n",
            "0.834 (+/-0.006) for {'criterion': 'entropy', 'n_estimators': 100}\n",
            "0.833 (+/-0.009) for {'criterion': 'entropy', 'n_estimators': 150}\n",
            "0.833 (+/-0.01) for {'criterion': 'entropy', 'n_estimators': 200}\n",
            "0.835 (+/-0.01) for {'criterion': 'entropy', 'n_estimators': 250}\n",
            "0.834 (+/-0.009) for {'criterion': 'gini', 'n_estimators': 50}\n",
            "0.833 (+/-0.01) for {'criterion': 'gini', 'n_estimators': 100}\n",
            "0.834 (+/-0.008) for {'criterion': 'gini', 'n_estimators': 150}\n",
            "0.835 (+/-0.01) for {'criterion': 'gini', 'n_estimators': 200}\n",
            "0.835 (+/-0.009) for {'criterion': 'gini', 'n_estimators': 250}\n"
          ],
          "name": "stdout"
        }
      ]
    },
    {
      "cell_type": "markdown",
      "metadata": {
        "id": "L3_lcFBKXvX1"
      },
      "source": [
        "### ANN"
      ]
    },
    {
      "cell_type": "markdown",
      "metadata": {
        "id": "WpwFIncHXvX1"
      },
      "source": [
        "#### Initializing Neural Network"
      ]
    },
    {
      "cell_type": "code",
      "metadata": {
        "id": "vzioxfvPXvX1"
      },
      "source": [
        "# Initializing the ANN\n",
        "ann5 = tf.keras.models.Sequential()\n",
        "\n",
        "# Adding the input layer and the first hidden layer\n",
        "ann5.add(tf.keras.layers.Dense(units=12, activation='relu'))\n",
        "\n",
        "# Adding the second hidden layer\n",
        "ann5.add(tf.keras.layers.Dense(units=12, activation='relu'))\n",
        "\n",
        "# Adding the output layer\n",
        "ann5.add(tf.keras.layers.Dense(units=1, activation='sigmoid'))"
      ],
      "execution_count": null,
      "outputs": []
    },
    {
      "cell_type": "markdown",
      "metadata": {
        "id": "8AiIWTJiXvX2"
      },
      "source": [
        "#### Compiling the ANN"
      ]
    },
    {
      "cell_type": "code",
      "metadata": {
        "id": "sxZV-cLCXvX2"
      },
      "source": [
        "ann5.compile(optimizer = 'adam', loss = 'binary_crossentropy', metrics = ['accuracy'])"
      ],
      "execution_count": null,
      "outputs": []
    },
    {
      "cell_type": "markdown",
      "metadata": {
        "id": "WI64RRHqXvX2"
      },
      "source": [
        "#### Training the ANN on the Training set"
      ]
    },
    {
      "cell_type": "code",
      "metadata": {
        "colab": {
          "base_uri": "https://localhost:8080/"
        },
        "id": "uLvWcuInXvX2",
        "outputId": "15c45aa2-fdf6-48e3-c9d0-fc976d640d88"
      },
      "source": [
        "ann5.fit(X_train, y_train, batch_size =32 , epochs = 100)"
      ],
      "execution_count": null,
      "outputs": [
        {
          "output_type": "stream",
          "text": [
            "Epoch 1/100\n",
            "284/284 [==============================] - 1s 1ms/step - loss: 0.5190 - accuracy: 0.7713\n",
            "Epoch 2/100\n",
            "284/284 [==============================] - 0s 1ms/step - loss: 0.3961 - accuracy: 0.8357\n",
            "Epoch 3/100\n",
            "284/284 [==============================] - 0s 1ms/step - loss: 0.3855 - accuracy: 0.8410\n",
            "Epoch 4/100\n",
            "284/284 [==============================] - 0s 1ms/step - loss: 0.3875 - accuracy: 0.8422\n",
            "Epoch 5/100\n",
            "284/284 [==============================] - 0s 1ms/step - loss: 0.3768 - accuracy: 0.8443\n",
            "Epoch 6/100\n",
            "284/284 [==============================] - 0s 1ms/step - loss: 0.3817 - accuracy: 0.8477\n",
            "Epoch 7/100\n",
            "284/284 [==============================] - 0s 1ms/step - loss: 0.3807 - accuracy: 0.8491\n",
            "Epoch 8/100\n",
            "284/284 [==============================] - 0s 1ms/step - loss: 0.3837 - accuracy: 0.8436\n",
            "Epoch 9/100\n",
            "284/284 [==============================] - 0s 1ms/step - loss: 0.3908 - accuracy: 0.8454\n",
            "Epoch 10/100\n",
            "284/284 [==============================] - 0s 1ms/step - loss: 0.3684 - accuracy: 0.8533\n",
            "Epoch 11/100\n",
            "284/284 [==============================] - 0s 1ms/step - loss: 0.3703 - accuracy: 0.8528\n",
            "Epoch 12/100\n",
            "284/284 [==============================] - 0s 1ms/step - loss: 0.3711 - accuracy: 0.8526\n",
            "Epoch 13/100\n",
            "284/284 [==============================] - 0s 1ms/step - loss: 0.3775 - accuracy: 0.8470\n",
            "Epoch 14/100\n",
            "284/284 [==============================] - 0s 1ms/step - loss: 0.3810 - accuracy: 0.8445\n",
            "Epoch 15/100\n",
            "284/284 [==============================] - 0s 1ms/step - loss: 0.3644 - accuracy: 0.8571\n",
            "Epoch 16/100\n",
            "284/284 [==============================] - 0s 1ms/step - loss: 0.3881 - accuracy: 0.8445\n",
            "Epoch 17/100\n",
            "284/284 [==============================] - 0s 1ms/step - loss: 0.3793 - accuracy: 0.8475\n",
            "Epoch 18/100\n",
            "284/284 [==============================] - 0s 1ms/step - loss: 0.3704 - accuracy: 0.8560\n",
            "Epoch 19/100\n",
            "284/284 [==============================] - 0s 1ms/step - loss: 0.3782 - accuracy: 0.8446\n",
            "Epoch 20/100\n",
            "284/284 [==============================] - 0s 1ms/step - loss: 0.3794 - accuracy: 0.8523\n",
            "Epoch 21/100\n",
            "284/284 [==============================] - 0s 1ms/step - loss: 0.3766 - accuracy: 0.8456\n",
            "Epoch 22/100\n",
            "284/284 [==============================] - 0s 1ms/step - loss: 0.3891 - accuracy: 0.8436\n",
            "Epoch 23/100\n",
            "284/284 [==============================] - 0s 1ms/step - loss: 0.3682 - accuracy: 0.8549\n",
            "Epoch 24/100\n",
            "284/284 [==============================] - 0s 1ms/step - loss: 0.3693 - accuracy: 0.8566\n",
            "Epoch 25/100\n",
            "284/284 [==============================] - 0s 1ms/step - loss: 0.3806 - accuracy: 0.8452\n",
            "Epoch 26/100\n",
            "284/284 [==============================] - 0s 1ms/step - loss: 0.3738 - accuracy: 0.8524\n",
            "Epoch 27/100\n",
            "284/284 [==============================] - 0s 1ms/step - loss: 0.3790 - accuracy: 0.8451\n",
            "Epoch 28/100\n",
            "284/284 [==============================] - 0s 1ms/step - loss: 0.3723 - accuracy: 0.8509\n",
            "Epoch 29/100\n",
            "284/284 [==============================] - 0s 1ms/step - loss: 0.3748 - accuracy: 0.8519\n",
            "Epoch 30/100\n",
            "284/284 [==============================] - 0s 1ms/step - loss: 0.3594 - accuracy: 0.8569\n",
            "Epoch 31/100\n",
            "284/284 [==============================] - 0s 1ms/step - loss: 0.3661 - accuracy: 0.8539\n",
            "Epoch 32/100\n",
            "284/284 [==============================] - 0s 1ms/step - loss: 0.3580 - accuracy: 0.8575\n",
            "Epoch 33/100\n",
            "284/284 [==============================] - 0s 1ms/step - loss: 0.3683 - accuracy: 0.8554\n",
            "Epoch 34/100\n",
            "284/284 [==============================] - 0s 1ms/step - loss: 0.3690 - accuracy: 0.8552\n",
            "Epoch 35/100\n",
            "284/284 [==============================] - 0s 1ms/step - loss: 0.3829 - accuracy: 0.8497\n",
            "Epoch 36/100\n",
            "284/284 [==============================] - 0s 1ms/step - loss: 0.3679 - accuracy: 0.8535\n",
            "Epoch 37/100\n",
            "284/284 [==============================] - 0s 1ms/step - loss: 0.3690 - accuracy: 0.8539\n",
            "Epoch 38/100\n",
            "284/284 [==============================] - 0s 1ms/step - loss: 0.3826 - accuracy: 0.8465\n",
            "Epoch 39/100\n",
            "284/284 [==============================] - 0s 1ms/step - loss: 0.3617 - accuracy: 0.8535\n",
            "Epoch 40/100\n",
            "284/284 [==============================] - 0s 1ms/step - loss: 0.3826 - accuracy: 0.8474\n",
            "Epoch 41/100\n",
            "284/284 [==============================] - 0s 1ms/step - loss: 0.3670 - accuracy: 0.8548\n",
            "Epoch 42/100\n",
            "284/284 [==============================] - 0s 1ms/step - loss: 0.3662 - accuracy: 0.8554\n",
            "Epoch 43/100\n",
            "284/284 [==============================] - 0s 1ms/step - loss: 0.3714 - accuracy: 0.8523\n",
            "Epoch 44/100\n",
            "284/284 [==============================] - 0s 1ms/step - loss: 0.3868 - accuracy: 0.8456\n",
            "Epoch 45/100\n",
            "284/284 [==============================] - 0s 1ms/step - loss: 0.3739 - accuracy: 0.8504\n",
            "Epoch 46/100\n",
            "284/284 [==============================] - 0s 1ms/step - loss: 0.3670 - accuracy: 0.8569\n",
            "Epoch 47/100\n",
            "284/284 [==============================] - 0s 1ms/step - loss: 0.3841 - accuracy: 0.8435\n",
            "Epoch 48/100\n",
            "284/284 [==============================] - 0s 1ms/step - loss: 0.3711 - accuracy: 0.8519\n",
            "Epoch 49/100\n",
            "284/284 [==============================] - 0s 1ms/step - loss: 0.3712 - accuracy: 0.8554\n",
            "Epoch 50/100\n",
            "284/284 [==============================] - 0s 1ms/step - loss: 0.3676 - accuracy: 0.8548\n",
            "Epoch 51/100\n",
            "284/284 [==============================] - 0s 1ms/step - loss: 0.3668 - accuracy: 0.8564\n",
            "Epoch 52/100\n",
            "284/284 [==============================] - 0s 1ms/step - loss: 0.3790 - accuracy: 0.8478\n",
            "Epoch 53/100\n",
            "284/284 [==============================] - 0s 1ms/step - loss: 0.3637 - accuracy: 0.8562\n",
            "Epoch 54/100\n",
            "284/284 [==============================] - 0s 1ms/step - loss: 0.3728 - accuracy: 0.8475\n",
            "Epoch 55/100\n",
            "284/284 [==============================] - 0s 1ms/step - loss: 0.3698 - accuracy: 0.8569\n",
            "Epoch 56/100\n",
            "284/284 [==============================] - 0s 1ms/step - loss: 0.3725 - accuracy: 0.8556\n",
            "Epoch 57/100\n",
            "284/284 [==============================] - 0s 1ms/step - loss: 0.3775 - accuracy: 0.8513\n",
            "Epoch 58/100\n",
            "284/284 [==============================] - 0s 1ms/step - loss: 0.3724 - accuracy: 0.8557\n",
            "Epoch 59/100\n",
            "284/284 [==============================] - 0s 1ms/step - loss: 0.3793 - accuracy: 0.8507\n",
            "Epoch 60/100\n",
            "284/284 [==============================] - 0s 1ms/step - loss: 0.3702 - accuracy: 0.8505\n",
            "Epoch 61/100\n",
            "284/284 [==============================] - 0s 1ms/step - loss: 0.3783 - accuracy: 0.8498\n",
            "Epoch 62/100\n",
            "284/284 [==============================] - 0s 1ms/step - loss: 0.3747 - accuracy: 0.8526\n",
            "Epoch 63/100\n",
            "284/284 [==============================] - 0s 1ms/step - loss: 0.3799 - accuracy: 0.8466\n",
            "Epoch 64/100\n",
            "284/284 [==============================] - 0s 1ms/step - loss: 0.3578 - accuracy: 0.8558\n",
            "Epoch 65/100\n",
            "284/284 [==============================] - 0s 1ms/step - loss: 0.3818 - accuracy: 0.8449\n",
            "Epoch 66/100\n",
            "284/284 [==============================] - 0s 1ms/step - loss: 0.3792 - accuracy: 0.8511\n",
            "Epoch 67/100\n",
            "284/284 [==============================] - 0s 1ms/step - loss: 0.3780 - accuracy: 0.8476\n",
            "Epoch 68/100\n",
            "284/284 [==============================] - 0s 1ms/step - loss: 0.3722 - accuracy: 0.8551\n",
            "Epoch 69/100\n",
            "284/284 [==============================] - 0s 1ms/step - loss: 0.3762 - accuracy: 0.8506\n",
            "Epoch 70/100\n",
            "284/284 [==============================] - 0s 1ms/step - loss: 0.3836 - accuracy: 0.8497\n",
            "Epoch 71/100\n",
            "284/284 [==============================] - 0s 1ms/step - loss: 0.3925 - accuracy: 0.8387\n",
            "Epoch 72/100\n",
            "284/284 [==============================] - 0s 1ms/step - loss: 0.3716 - accuracy: 0.8546\n",
            "Epoch 73/100\n",
            "284/284 [==============================] - 0s 1ms/step - loss: 0.3673 - accuracy: 0.8551\n",
            "Epoch 74/100\n",
            "284/284 [==============================] - 0s 1ms/step - loss: 0.3806 - accuracy: 0.8507\n",
            "Epoch 75/100\n",
            "284/284 [==============================] - 0s 1ms/step - loss: 0.3656 - accuracy: 0.8549\n",
            "Epoch 76/100\n",
            "284/284 [==============================] - 0s 1ms/step - loss: 0.3757 - accuracy: 0.8515\n",
            "Epoch 77/100\n",
            "284/284 [==============================] - 0s 1ms/step - loss: 0.3735 - accuracy: 0.8473\n",
            "Epoch 78/100\n",
            "284/284 [==============================] - 0s 1ms/step - loss: 0.3715 - accuracy: 0.8534\n",
            "Epoch 79/100\n",
            "284/284 [==============================] - 0s 1ms/step - loss: 0.3754 - accuracy: 0.8499\n",
            "Epoch 80/100\n",
            "284/284 [==============================] - 0s 1ms/step - loss: 0.3607 - accuracy: 0.8606\n",
            "Epoch 81/100\n",
            "284/284 [==============================] - 0s 1ms/step - loss: 0.3788 - accuracy: 0.8503\n",
            "Epoch 82/100\n",
            "284/284 [==============================] - 0s 1ms/step - loss: 0.3647 - accuracy: 0.8575\n",
            "Epoch 83/100\n",
            "284/284 [==============================] - 0s 1ms/step - loss: 0.3618 - accuracy: 0.8577\n",
            "Epoch 84/100\n",
            "284/284 [==============================] - 0s 1ms/step - loss: 0.3652 - accuracy: 0.8565\n",
            "Epoch 85/100\n",
            "284/284 [==============================] - 0s 1ms/step - loss: 0.3630 - accuracy: 0.8524\n",
            "Epoch 86/100\n",
            "284/284 [==============================] - 0s 1ms/step - loss: 0.3772 - accuracy: 0.8491\n",
            "Epoch 87/100\n",
            "284/284 [==============================] - 0s 1ms/step - loss: 0.3713 - accuracy: 0.8532\n",
            "Epoch 88/100\n",
            "284/284 [==============================] - 0s 1ms/step - loss: 0.3745 - accuracy: 0.8511\n",
            "Epoch 89/100\n",
            "284/284 [==============================] - 0s 1ms/step - loss: 0.3701 - accuracy: 0.8541\n",
            "Epoch 90/100\n",
            "284/284 [==============================] - 0s 1ms/step - loss: 0.3817 - accuracy: 0.8475\n",
            "Epoch 91/100\n",
            "284/284 [==============================] - 0s 1ms/step - loss: 0.3772 - accuracy: 0.8498\n",
            "Epoch 92/100\n",
            "284/284 [==============================] - 0s 1ms/step - loss: 0.3745 - accuracy: 0.8498\n",
            "Epoch 93/100\n",
            "284/284 [==============================] - 0s 1ms/step - loss: 0.3701 - accuracy: 0.8519\n",
            "Epoch 94/100\n",
            "284/284 [==============================] - 0s 1ms/step - loss: 0.3615 - accuracy: 0.8621\n",
            "Epoch 95/100\n",
            "284/284 [==============================] - 0s 1ms/step - loss: 0.3749 - accuracy: 0.8503\n",
            "Epoch 96/100\n",
            "284/284 [==============================] - 0s 1ms/step - loss: 0.3763 - accuracy: 0.8507\n",
            "Epoch 97/100\n",
            "284/284 [==============================] - 0s 1ms/step - loss: 0.3698 - accuracy: 0.8520\n",
            "Epoch 98/100\n",
            "284/284 [==============================] - 0s 1ms/step - loss: 0.3664 - accuracy: 0.8564\n",
            "Epoch 99/100\n",
            "284/284 [==============================] - 0s 1ms/step - loss: 0.3710 - accuracy: 0.8519\n",
            "Epoch 100/100\n",
            "284/284 [==============================] - 0s 1ms/step - loss: 0.3646 - accuracy: 0.8563\n"
          ],
          "name": "stdout"
        },
        {
          "output_type": "execute_result",
          "data": {
            "text/plain": [
              "<tensorflow.python.keras.callbacks.History at 0x7fb732ce04d0>"
            ]
          },
          "metadata": {
            "tags": []
          },
          "execution_count": 91
        }
      ]
    },
    {
      "cell_type": "markdown",
      "metadata": {
        "id": "VZ2JwM4_XvX2"
      },
      "source": [
        "#### Making predictions and evaluating the model"
      ]
    },
    {
      "cell_type": "code",
      "metadata": {
        "colab": {
          "base_uri": "https://localhost:8080/"
        },
        "id": "96qAp4b7XvX2",
        "outputId": "c0be4dbd-aee9-4e2a-f798-b6c1b58a28bd"
      },
      "source": [
        "ann_y_pred5 = ann5.predict(X_test)\n",
        "ann_y_pred5 = (ann_y_pred5 > 0.5)\n",
        "\n",
        "from sklearn.metrics import confusion_matrix\n",
        "cm = confusion_matrix(y_test, ann_y_pred5)\n",
        "print(' \\n The confusion Matrix for ANN ','\\n')\n",
        "print(cm)\n",
        "\n",
        "from sklearn.metrics import accuracy_score\n",
        "print(' \\n The accuracy score for ANN ','\\n')\n",
        "print(accuracy_score(y_test,ann_y_pred5))\n",
        "acc_ann5=accuracy_score(y_test,ann_y_pred5)  \n",
        "result2.append(acc_ann5)"
      ],
      "execution_count": null,
      "outputs": [
        {
          "output_type": "stream",
          "text": [
            " \n",
            " The confusion Matrix for ANN  \n",
            "\n",
            "[[3014  234]\n",
            " [ 350  296]]\n",
            " \n",
            " The accuracy score for ANN  \n",
            "\n",
            "0.8500256805341551\n"
          ],
          "name": "stdout"
        }
      ]
    },
    {
      "cell_type": "markdown",
      "metadata": {
        "id": "JxPaYTsEXvX3"
      },
      "source": [
        "## AUC/ROC curve"
      ]
    },
    {
      "cell_type": "code",
      "metadata": {
        "colab": {
          "base_uri": "https://localhost:8080/",
          "height": 641
        },
        "id": "AyPKaGhDXvX3",
        "outputId": "2f58d079-6cd7-4972-c691-80a5e4722ec9"
      },
      "source": [
        "########Comparision of models using roc_curve\n",
        "\n",
        "from sklearn.metrics import roc_curve, auc\n",
        "from matplotlib import pyplot\n",
        "from matplotlib.pyplot import figure\n",
        "result3=[]\n",
        "\n",
        "figure(num=None, figsize=(14, 7), dpi=80, facecolor='w', edgecolor='k')\n",
        "\n",
        "knn_fpr5, knn_tpr5, _ = roc_curve(y_test, knn_y_pred5)\n",
        "nb_fpr5, nb_tpr5, _ = roc_curve(y_test, nb_y_pred5)\n",
        "cart_fpr5, cart_tpr5, _ = roc_curve(y_test, cart_y_pred5)\n",
        "c5_fpr5, c5_tpr5, _ = roc_curve(y_test, c5_y_pred5)\n",
        "rf_fpr5, rf_tpr5, _ = roc_curve(y_test, rf_y_pred5)\n",
        "ann_fpr5, ann_tpr5, _ = roc_curve(y_test, ann_y_pred5)\n",
        "\n",
        "# plot the roc curve for the model\n",
        "\n",
        "pyplot.plot(knn_fpr5, knn_tpr5, marker='s', label='K Neighbors Classifier')\n",
        "pyplot.plot(nb_fpr5, nb_tpr5, linestyle='--', label='Naive Bayes')\n",
        "pyplot.plot(cart_fpr5, cart_tpr5, marker='o', label='Decision Tree_CART')\n",
        "pyplot.plot(c5_fpr5, c5_tpr5, marker='v', label='Decision Tree_C5.0')\n",
        "pyplot.plot(rf_fpr5, rf_tpr5, linestyle=':', label='Random Forest')\n",
        "pyplot.plot(ann_fpr5, ann_tpr5, linestyle='-', label='Artificial Neural Network')\n",
        "\n",
        "# Printing values for AUC\n",
        "\n",
        "print(\"AUC Value for 'K Neighbors Classifier' = \",auc(knn_fpr5, knn_tpr5))\n",
        "k1=auc(knn_fpr5, knn_tpr5)\n",
        "result3.append(k1)\n",
        "print(\"AUC Value for 'Naive Bayes' = \",auc(nb_fpr5, nb_tpr5))\n",
        "n1=auc(nb_fpr5, nb_tpr5)\n",
        "result3.append(n1)\n",
        "print(\"AUC Value for 'Decision Tree_CART' = \",auc(cart_fpr5, cart_tpr5))\n",
        "c1=auc(cart_fpr5, cart_tpr5)\n",
        "result3.append(c)\n",
        "print(\"AUC Value for 'Decision Tree_C5.0' = \",auc(c5_fpr5, c5_tpr5))\n",
        "c12=auc(c5_fpr5, c5_tpr5)\n",
        "result3.append(c12)\n",
        "print(\"AUC Value for 'Random Forest' = \",auc(rf_fpr5, rf_tpr5))\n",
        "r1=auc(rf_fpr5, rf_tpr5)\n",
        "result3.append(r)\n",
        "print(\"AUC Value for 'Artificial Neural Network' = \",auc(ann_fpr5, ann_tpr5))\n",
        "a1=auc(ann_fpr5, ann_tpr5)\n",
        "result3.append(a1)\n",
        "# axis labels\n",
        "pyplot.xlabel('False Positive Rate')\n",
        "pyplot.ylabel('True Positive Rate')\n",
        "pyplot.title(\"Comparision of models using roc_curve for Best 5 Features\", fontsize=30)\n",
        "\n",
        "# show the legend\n",
        "pyplot.legend()\n",
        "# show the plot\n",
        "pyplot.show()"
      ],
      "execution_count": null,
      "outputs": [
        {
          "output_type": "stream",
          "text": [
            "AUC Value for 'K Neighbors Classifier' =  0.6251739579679421\n",
            "AUC Value for 'Naive Bayes' =  0.7208756233891016\n",
            "AUC Value for 'Decision Tree_CART' =  0.6203336370845979\n",
            "AUC Value for 'Decision Tree_C5.0' =  0.622185217099544\n",
            "AUC Value for 'Random Forest' =  0.6449127064618951\n",
            "AUC Value for 'Artificial Neural Network' =  0.6930799996949778\n"
          ],
          "name": "stdout"
        },
        {
          "output_type": "display_data",
          "data": {
            "image/png": "[encoded data removed]",
            "text/plain": [
              "<Figure size 1120x560 with 1 Axes>"
            ]
          },
          "metadata": {
            "tags": []
          }
        }
      ]
    },
    {
      "cell_type": "code",
      "metadata": {
        "colab": {
          "base_uri": "https://localhost:8080/",
          "height": 252
        },
        "id": "qm-FOdF1n3fl",
        "outputId": "54e56dc4-55e1-45d5-f3d5-c547aa72b5ac"
      },
      "source": [
        "results1 = pd.DataFrame({ \"Models\":[\"KNN\",\n",
        "                                  \"Naive Bayes\",\n",
        "                                  \"CART\",\n",
        "                                  \"C5.0\",\n",
        "                                  \"RandomForest\",\n",
        "                                  \"ANN\"\n",
        "                                  ],\n",
        "                        \"Model Accuracy\":result2,\n",
        "                        \"AUC\":result3\n",
        "                        })\n",
        "results1"
      ],
      "execution_count": null,
      "outputs": [
        {
          "output_type": "execute_result",
          "data": {
            "text/html": [
              "<div>\n",
              "<style scoped>\n",
              "    .dataframe tbody tr th:only-of-type {\n",
              "        vertical-align: middle;\n",
              "    }\n",
              "\n",
              "    .dataframe tbody tr th {\n",
              "        vertical-align: top;\n",
              "    }\n",
              "\n",
              "    .dataframe thead th {\n",
              "        text-align: right;\n",
              "    }\n",
              "</style>\n",
              "<table border=\"1\" class=\"dataframe\">\n",
              "  <thead>\n",
              "    <tr style=\"text-align: right;\">\n",
              "      <th></th>\n",
              "      <th>Models</th>\n",
              "      <th>Model Accuracy</th>\n",
              "      <th>AUC</th>\n",
              "    </tr>\n",
              "  </thead>\n",
              "  <tbody>\n",
              "    <tr>\n",
              "      <th>0</th>\n",
              "      <td>KNN</td>\n",
              "      <td>0.815357</td>\n",
              "      <td>0.625174</td>\n",
              "    </tr>\n",
              "    <tr>\n",
              "      <th>1</th>\n",
              "      <td>Naive Bayes</td>\n",
              "      <td>0.838469</td>\n",
              "      <td>0.720876</td>\n",
              "    </tr>\n",
              "    <tr>\n",
              "      <th>2</th>\n",
              "      <td>CART</td>\n",
              "      <td>0.786595</td>\n",
              "      <td>0.612803</td>\n",
              "    </tr>\n",
              "    <tr>\n",
              "      <th>3</th>\n",
              "      <td>C5.0</td>\n",
              "      <td>0.788649</td>\n",
              "      <td>0.622185</td>\n",
              "    </tr>\n",
              "    <tr>\n",
              "      <th>4</th>\n",
              "      <td>RandomForest</td>\n",
              "      <td>0.840010</td>\n",
              "      <td>0.648761</td>\n",
              "    </tr>\n",
              "    <tr>\n",
              "      <th>5</th>\n",
              "      <td>ANN</td>\n",
              "      <td>0.850026</td>\n",
              "      <td>0.693080</td>\n",
              "    </tr>\n",
              "  </tbody>\n",
              "</table>\n",
              "</div>"
            ],
            "text/plain": [
              "         Models  Model Accuracy       AUC\n",
              "0           KNN        0.815357  0.625174\n",
              "1   Naive Bayes        0.838469  0.720876\n",
              "2          CART        0.786595  0.612803\n",
              "3          C5.0        0.788649  0.622185\n",
              "4  RandomForest        0.840010  0.648761\n",
              "5           ANN        0.850026  0.693080"
            ]
          },
          "metadata": {
            "tags": []
          },
          "execution_count": 94
        }
      ]
    },
    {
      "cell_type": "markdown",
      "metadata": {
        "id": "GJtarPndN9FU"
      },
      "source": [
        "# Testing Our Model on Test Data"
      ]
    },
    {
      "cell_type": "markdown",
      "metadata": {
        "id": "_ntc-8UPOFyW"
      },
      "source": [
        "### Importing Test Dataset"
      ]
    },
    {
      "cell_type": "code",
      "metadata": {
        "colab": {
          "base_uri": "https://localhost:8080/",
          "height": 58
        },
        "id": "Y56GLXHEcbl1",
        "outputId": "906d6b74-d1bc-4211-d048-944553a19bb9"
      },
      "source": [
        "'''\n",
        "test= pd.read_csv(\"/content/drive/MyDrive/KDD project/aug_test.csv\")\n",
        "test.head(10)\n",
        "test.isnull().sum()\n",
        "'''"
      ],
      "execution_count": null,
      "outputs": [
        {
          "output_type": "execute_result",
          "data": {
            "application/vnd.google.colaboratory.intrinsic+json": {
              "type": "string"
            },
            "text/plain": [
              "'\\ntest= pd.read_csv(\"/content/drive/MyDrive/KDD project/aug_test.csv\")\\ntest.head(10)\\ntest.isnull().sum()\\n'"
            ]
          },
          "metadata": {
            "tags": []
          },
          "execution_count": 95
        }
      ]
    },
    {
      "cell_type": "code",
      "metadata": {
        "colab": {
          "base_uri": "https://localhost:8080/",
          "height": 420
        },
        "id": "bb1_2IGHyR10",
        "outputId": "8dce823a-cc44-40d2-95da-1cfa8a9f03ff"
      },
      "source": [
        "test= pd.read_csv(\"aug_test.csv\")\n",
        "test.head(10)\n",
        "test.isnull().sum()"
      ],
      "execution_count": null,
      "outputs": [
        {
          "output_type": "error",
          "ename": "FileNotFoundError",
          "evalue": "ignored",
          "traceback": [
            "\u001b[0;31m---------------------------------------------------------------------------\u001b[0m",
            "\u001b[0;31mFileNotFoundError\u001b[0m                         Traceback (most recent call last)",
            "\u001b[0;32m<ipython-input-96-80181543775f>\u001b[0m in \u001b[0;36m<module>\u001b[0;34m()\u001b[0m\n\u001b[0;32m----> 1\u001b[0;31m \u001b[0mtest\u001b[0m\u001b[0;34m=\u001b[0m \u001b[0mpd\u001b[0m\u001b[0;34m.\u001b[0m\u001b[0mread_csv\u001b[0m\u001b[0;34m(\u001b[0m\u001b[0;34m\"aug_test.csv\"\u001b[0m\u001b[0;34m)\u001b[0m\u001b[0;34m\u001b[0m\u001b[0;34m\u001b[0m\u001b[0m\n\u001b[0m\u001b[1;32m      2\u001b[0m \u001b[0mtest\u001b[0m\u001b[0;34m.\u001b[0m\u001b[0mhead\u001b[0m\u001b[0;34m(\u001b[0m\u001b[0;36m10\u001b[0m\u001b[0;34m)\u001b[0m\u001b[0;34m\u001b[0m\u001b[0;34m\u001b[0m\u001b[0m\n\u001b[1;32m      3\u001b[0m \u001b[0mtest\u001b[0m\u001b[0;34m.\u001b[0m\u001b[0misnull\u001b[0m\u001b[0;34m(\u001b[0m\u001b[0;34m)\u001b[0m\u001b[0;34m.\u001b[0m\u001b[0msum\u001b[0m\u001b[0;34m(\u001b[0m\u001b[0;34m)\u001b[0m\u001b[0;34m\u001b[0m\u001b[0;34m\u001b[0m\u001b[0m\n",
            "\u001b[0;32m/usr/local/lib/python3.7/dist-packages/pandas/io/parsers.py\u001b[0m in \u001b[0;36mread_csv\u001b[0;34m(filepath_or_buffer, sep, delimiter, header, names, index_col, usecols, squeeze, prefix, mangle_dupe_cols, dtype, engine, converters, true_values, false_values, skipinitialspace, skiprows, skipfooter, nrows, na_values, keep_default_na, na_filter, verbose, skip_blank_lines, parse_dates, infer_datetime_format, keep_date_col, date_parser, dayfirst, cache_dates, iterator, chunksize, compression, thousands, decimal, lineterminator, quotechar, quoting, doublequote, escapechar, comment, encoding, dialect, error_bad_lines, warn_bad_lines, delim_whitespace, low_memory, memory_map, float_precision)\u001b[0m\n\u001b[1;32m    686\u001b[0m     )\n\u001b[1;32m    687\u001b[0m \u001b[0;34m\u001b[0m\u001b[0m\n\u001b[0;32m--> 688\u001b[0;31m     \u001b[0;32mreturn\u001b[0m \u001b[0m_read\u001b[0m\u001b[0;34m(\u001b[0m\u001b[0mfilepath_or_buffer\u001b[0m\u001b[0;34m,\u001b[0m \u001b[0mkwds\u001b[0m\u001b[0;34m)\u001b[0m\u001b[0;34m\u001b[0m\u001b[0;34m\u001b[0m\u001b[0m\n\u001b[0m\u001b[1;32m    689\u001b[0m \u001b[0;34m\u001b[0m\u001b[0m\n\u001b[1;32m    690\u001b[0m \u001b[0;34m\u001b[0m\u001b[0m\n",
            "\u001b[0;32m/usr/local/lib/python3.7/dist-packages/pandas/io/parsers.py\u001b[0m in \u001b[0;36m_read\u001b[0;34m(filepath_or_buffer, kwds)\u001b[0m\n\u001b[1;32m    452\u001b[0m \u001b[0;34m\u001b[0m\u001b[0m\n\u001b[1;32m    453\u001b[0m     \u001b[0;31m# Create the parser.\u001b[0m\u001b[0;34m\u001b[0m\u001b[0;34m\u001b[0m\u001b[0;34m\u001b[0m\u001b[0m\n\u001b[0;32m--> 454\u001b[0;31m     \u001b[0mparser\u001b[0m \u001b[0;34m=\u001b[0m \u001b[0mTextFileReader\u001b[0m\u001b[0;34m(\u001b[0m\u001b[0mfp_or_buf\u001b[0m\u001b[0;34m,\u001b[0m \u001b[0;34m**\u001b[0m\u001b[0mkwds\u001b[0m\u001b[0;34m)\u001b[0m\u001b[0;34m\u001b[0m\u001b[0;34m\u001b[0m\u001b[0m\n\u001b[0m\u001b[1;32m    455\u001b[0m \u001b[0;34m\u001b[0m\u001b[0m\n\u001b[1;32m    456\u001b[0m     \u001b[0;32mif\u001b[0m \u001b[0mchunksize\u001b[0m \u001b[0;32mor\u001b[0m \u001b[0miterator\u001b[0m\u001b[0;34m:\u001b[0m\u001b[0;34m\u001b[0m\u001b[0;34m\u001b[0m\u001b[0m\n",
            "\u001b[0;32m/usr/local/lib/python3.7/dist-packages/pandas/io/parsers.py\u001b[0m in \u001b[0;36m__init__\u001b[0;34m(self, f, engine, **kwds)\u001b[0m\n\u001b[1;32m    946\u001b[0m             \u001b[0mself\u001b[0m\u001b[0;34m.\u001b[0m\u001b[0moptions\u001b[0m\u001b[0;34m[\u001b[0m\u001b[0;34m\"has_index_names\"\u001b[0m\u001b[0;34m]\u001b[0m \u001b[0;34m=\u001b[0m \u001b[0mkwds\u001b[0m\u001b[0;34m[\u001b[0m\u001b[0;34m\"has_index_names\"\u001b[0m\u001b[0;34m]\u001b[0m\u001b[0;34m\u001b[0m\u001b[0;34m\u001b[0m\u001b[0m\n\u001b[1;32m    947\u001b[0m \u001b[0;34m\u001b[0m\u001b[0m\n\u001b[0;32m--> 948\u001b[0;31m         \u001b[0mself\u001b[0m\u001b[0;34m.\u001b[0m\u001b[0m_make_engine\u001b[0m\u001b[0;34m(\u001b[0m\u001b[0mself\u001b[0m\u001b[0;34m.\u001b[0m\u001b[0mengine\u001b[0m\u001b[0;34m)\u001b[0m\u001b[0;34m\u001b[0m\u001b[0;34m\u001b[0m\u001b[0m\n\u001b[0m\u001b[1;32m    949\u001b[0m \u001b[0;34m\u001b[0m\u001b[0m\n\u001b[1;32m    950\u001b[0m     \u001b[0;32mdef\u001b[0m \u001b[0mclose\u001b[0m\u001b[0;34m(\u001b[0m\u001b[0mself\u001b[0m\u001b[0;34m)\u001b[0m\u001b[0;34m:\u001b[0m\u001b[0;34m\u001b[0m\u001b[0;34m\u001b[0m\u001b[0m\n",
            "\u001b[0;32m/usr/local/lib/python3.7/dist-packages/pandas/io/parsers.py\u001b[0m in \u001b[0;36m_make_engine\u001b[0;34m(self, engine)\u001b[0m\n\u001b[1;32m   1178\u001b[0m     \u001b[0;32mdef\u001b[0m \u001b[0m_make_engine\u001b[0m\u001b[0;34m(\u001b[0m\u001b[0mself\u001b[0m\u001b[0;34m,\u001b[0m \u001b[0mengine\u001b[0m\u001b[0;34m=\u001b[0m\u001b[0;34m\"c\"\u001b[0m\u001b[0;34m)\u001b[0m\u001b[0;34m:\u001b[0m\u001b[0;34m\u001b[0m\u001b[0;34m\u001b[0m\u001b[0m\n\u001b[1;32m   1179\u001b[0m         \u001b[0;32mif\u001b[0m \u001b[0mengine\u001b[0m \u001b[0;34m==\u001b[0m \u001b[0;34m\"c\"\u001b[0m\u001b[0;34m:\u001b[0m\u001b[0;34m\u001b[0m\u001b[0;34m\u001b[0m\u001b[0m\n\u001b[0;32m-> 1180\u001b[0;31m             \u001b[0mself\u001b[0m\u001b[0;34m.\u001b[0m\u001b[0m_engine\u001b[0m \u001b[0;34m=\u001b[0m \u001b[0mCParserWrapper\u001b[0m\u001b[0;34m(\u001b[0m\u001b[0mself\u001b[0m\u001b[0;34m.\u001b[0m\u001b[0mf\u001b[0m\u001b[0;34m,\u001b[0m \u001b[0;34m**\u001b[0m\u001b[0mself\u001b[0m\u001b[0;34m.\u001b[0m\u001b[0moptions\u001b[0m\u001b[0;34m)\u001b[0m\u001b[0;34m\u001b[0m\u001b[0;34m\u001b[0m\u001b[0m\n\u001b[0m\u001b[1;32m   1181\u001b[0m         \u001b[0;32melse\u001b[0m\u001b[0;34m:\u001b[0m\u001b[0;34m\u001b[0m\u001b[0;34m\u001b[0m\u001b[0m\n\u001b[1;32m   1182\u001b[0m             \u001b[0;32mif\u001b[0m \u001b[0mengine\u001b[0m \u001b[0;34m==\u001b[0m \u001b[0;34m\"python\"\u001b[0m\u001b[0;34m:\u001b[0m\u001b[0;34m\u001b[0m\u001b[0;34m\u001b[0m\u001b[0m\n",
            "\u001b[0;32m/usr/local/lib/python3.7/dist-packages/pandas/io/parsers.py\u001b[0m in \u001b[0;36m__init__\u001b[0;34m(self, src, **kwds)\u001b[0m\n\u001b[1;32m   2008\u001b[0m         \u001b[0mkwds\u001b[0m\u001b[0;34m[\u001b[0m\u001b[0;34m\"usecols\"\u001b[0m\u001b[0;34m]\u001b[0m \u001b[0;34m=\u001b[0m \u001b[0mself\u001b[0m\u001b[0;34m.\u001b[0m\u001b[0musecols\u001b[0m\u001b[0;34m\u001b[0m\u001b[0;34m\u001b[0m\u001b[0m\n\u001b[1;32m   2009\u001b[0m \u001b[0;34m\u001b[0m\u001b[0m\n\u001b[0;32m-> 2010\u001b[0;31m         \u001b[0mself\u001b[0m\u001b[0;34m.\u001b[0m\u001b[0m_reader\u001b[0m \u001b[0;34m=\u001b[0m \u001b[0mparsers\u001b[0m\u001b[0;34m.\u001b[0m\u001b[0mTextReader\u001b[0m\u001b[0;34m(\u001b[0m\u001b[0msrc\u001b[0m\u001b[0;34m,\u001b[0m \u001b[0;34m**\u001b[0m\u001b[0mkwds\u001b[0m\u001b[0;34m)\u001b[0m\u001b[0;34m\u001b[0m\u001b[0;34m\u001b[0m\u001b[0m\n\u001b[0m\u001b[1;32m   2011\u001b[0m         \u001b[0mself\u001b[0m\u001b[0;34m.\u001b[0m\u001b[0munnamed_cols\u001b[0m \u001b[0;34m=\u001b[0m \u001b[0mself\u001b[0m\u001b[0;34m.\u001b[0m\u001b[0m_reader\u001b[0m\u001b[0;34m.\u001b[0m\u001b[0munnamed_cols\u001b[0m\u001b[0;34m\u001b[0m\u001b[0;34m\u001b[0m\u001b[0m\n\u001b[1;32m   2012\u001b[0m \u001b[0;34m\u001b[0m\u001b[0m\n",
            "\u001b[0;32mpandas/_libs/parsers.pyx\u001b[0m in \u001b[0;36mpandas._libs.parsers.TextReader.__cinit__\u001b[0;34m()\u001b[0m\n",
            "\u001b[0;32mpandas/_libs/parsers.pyx\u001b[0m in \u001b[0;36mpandas._libs.parsers.TextReader._setup_parser_source\u001b[0;34m()\u001b[0m\n",
            "\u001b[0;31mFileNotFoundError\u001b[0m: [Errno 2] No such file or directory: 'aug_test.csv'"
          ]
        }
      ]
    },
    {
      "cell_type": "markdown",
      "metadata": {
        "id": "mQTXBaczOJ7l"
      },
      "source": [
        "### Dropping the Null Values "
      ]
    },
    {
      "cell_type": "code",
      "metadata": {
        "id": "cMfEo_qjJxco"
      },
      "source": [
        "test.dropna(inplace=True)"
      ],
      "execution_count": null,
      "outputs": []
    },
    {
      "cell_type": "markdown",
      "metadata": {
        "id": "__KOtJn0OQth"
      },
      "source": [
        "### Viewing the dimensions of Dataset"
      ]
    },
    {
      "cell_type": "code",
      "metadata": {
        "id": "E70htwp0KSGq"
      },
      "source": [
        "test.shape"
      ],
      "execution_count": null,
      "outputs": []
    },
    {
      "cell_type": "code",
      "metadata": {
        "id": "TtmJszPGoeF6"
      },
      "source": [
        "test.isnull().sum()"
      ],
      "execution_count": null,
      "outputs": []
    },
    {
      "cell_type": "markdown",
      "metadata": {
        "id": "fFZupC-DOYwn"
      },
      "source": [
        "### Label Encoding the experience,last_new_job,education_level columns"
      ]
    },
    {
      "cell_type": "code",
      "metadata": {
        "id": "FHVnBCOYeCRu"
      },
      "source": [
        "#factors that will predict the price\n",
        "desired_factors = ['city_development_index','education_level','experience','last_new_job','training_hours']\n",
        "\n",
        "def replace(experience):\n",
        "    if experience == '>20':\n",
        "        return 21\n",
        "    elif experience == '<1':\n",
        "        return 0\n",
        "    else:\n",
        "        return experience\n",
        "\n",
        "test.experience =test.experience.map(replace) \n",
        "print(test['experience'].unique())  \n",
        "\n",
        "def replace(last_new_job):\n",
        "    if last_new_job == '>4':\n",
        "        return 5\n",
        "    elif last_new_job == 'never':\n",
        "        return 0\n",
        "\n",
        "    else:\n",
        "        return last_new_job\n",
        "\n",
        "test.last_new_job =test.last_new_job.map(replace)\n",
        "print(test['last_new_job'].unique())\n",
        "\n",
        "def replace(education_level):\n",
        "    if education_level == 'Primary School':\n",
        "        return 0\n",
        "    elif education_level == 'High School':\n",
        "        return 1\n",
        "    elif education_level == 'Graduate':\n",
        "        return 2\n",
        "    elif education_level == 'Masters':\n",
        "        return 3\n",
        "    elif education_level == 'Phd':\n",
        "        return 4\n",
        "    else:\n",
        "        return -1\n",
        "test.education_level =test.education_level.map(replace)\n",
        "test['education_level'].unique()\n"
      ],
      "execution_count": null,
      "outputs": []
    },
    {
      "cell_type": "markdown",
      "metadata": {
        "id": "03UzQFeSOo68"
      },
      "source": [
        "### Changing the data type of Variables"
      ]
    },
    {
      "cell_type": "code",
      "metadata": {
        "id": "L_EEZRuMKYx6"
      },
      "source": [
        "test['experience']=test['experience'].astype('int')\n",
        "test['last_new_job']=test['last_new_job'].astype('int')\n",
        "test.dtypes"
      ],
      "execution_count": null,
      "outputs": []
    },
    {
      "cell_type": "markdown",
      "metadata": {
        "id": "mVrVdATpq9ST"
      },
      "source": [
        "### Testing based on Accuracy"
      ]
    },
    {
      "cell_type": "code",
      "metadata": {
        "id": "J_sb8Wh5qt97"
      },
      "source": [
        "#set model to \n",
        "train_data = df1[desired_factors]\n",
        "test_data = test[desired_factors]\n",
        "target = df1.target\n",
        "\n",
        "#fitting model with prediction data and telling it my target\n",
        "rf.fit(train_data, target)\n",
        "\n",
        "y=rf.predict(test_data)\n",
        "test_prediction = pd.DataFrame(y)"
      ],
      "execution_count": null,
      "outputs": []
    },
    {
      "cell_type": "code",
      "metadata": {
        "id": "acEM1XWEqt-F"
      },
      "source": [
        "print(type(test_prediction))\n",
        "test_prediction.value_counts()"
      ],
      "execution_count": null,
      "outputs": []
    },
    {
      "cell_type": "code",
      "metadata": {
        "id": "VHXQV3D3qt-J"
      },
      "source": [
        "values = test_prediction.value_counts().values.tolist()\n",
        "labels = test_prediction.value_counts().index\n",
        "plt.figure(figsize= (5,5))\n",
        "plt.title('Test Prediction Result For Accuracy Metric Random Forest ')\n",
        "plt.pie(x = values, labels = labels, autopct='%1.1f%%', pctdistance= .5)\n",
        "plt.show()"
      ],
      "execution_count": null,
      "outputs": []
    },
    {
      "cell_type": "markdown",
      "metadata": {
        "id": "r9gbBWX_rFcd"
      },
      "source": [
        "### Testing based on AUC"
      ]
    },
    {
      "cell_type": "code",
      "metadata": {
        "id": "u8i51KZyJOyb"
      },
      "source": [
        "#set model to \n",
        "train_data = df1[desired_factors]\n",
        "test_data = test[desired_factors]\n",
        "target = df1.target\n",
        "\n",
        "#fitting model with prediction data and telling it my target\n",
        "nb.fit(train_data, target)\n",
        "\n",
        "y=nb.predict(test_data)\n",
        "test_prediction = pd.DataFrame(y)"
      ],
      "execution_count": null,
      "outputs": []
    },
    {
      "cell_type": "code",
      "metadata": {
        "id": "vla78woMNh9B"
      },
      "source": [
        "print(type(test_prediction))\n",
        "test_prediction.value_counts()"
      ],
      "execution_count": null,
      "outputs": []
    },
    {
      "cell_type": "code",
      "metadata": {
        "id": "qzOqA_yVVRip"
      },
      "source": [
        "values = test_prediction.value_counts().values.tolist()\n",
        "labels = test_prediction.value_counts().index\n",
        "plt.figure(figsize= (5,5))\n",
        "plt.title('Test Prediction Result For AUC metric Naive Bayes')\n",
        "plt.pie(x = values, labels = labels, autopct='%1.1f%%', pctdistance= .5)\n",
        "plt.show()"
      ],
      "execution_count": null,
      "outputs": []
    }
  ]
}